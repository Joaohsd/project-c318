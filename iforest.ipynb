{
 "cells": [
  {
   "cell_type": "code",
   "execution_count": 170,
   "metadata": {},
   "outputs": [
    {
     "name": "stdout",
     "output_type": "stream",
     "text": [
      "Requirement already satisfied: virtualenv in ./myenv/lib/python3.8/site-packages (20.27.1)\n",
      "Requirement already satisfied: distlib<1,>=0.3.7 in ./myenv/lib/python3.8/site-packages (from virtualenv) (0.3.9)\n",
      "Requirement already satisfied: filelock<4,>=3.12.2 in ./myenv/lib/python3.8/site-packages (from virtualenv) (3.16.1)\n",
      "Requirement already satisfied: platformdirs<5,>=3.9.1 in ./myenv/lib/python3.8/site-packages (from virtualenv) (4.3.6)\n",
      "created virtual environment CPython3.8.10.final.0-64 in 160ms\n",
      "  creator CPython3Posix(dest=/home/dev-nouvenn/projects/ds/project-c216/myenv, clear=False, no_vcs_ignore=False, global=False)\n",
      "  seeder FromAppData(download=False, pip=bundle, setuptools=bundle, wheel=bundle, via=copy, app_data_dir=/home/dev-nouvenn/.local/share/virtualenv)\n",
      "    added seed packages: asttokens==2.4.1, backcall==0.2.0, comm==0.2.2, contourpy==1.1.1, cycler==0.12.1, debugpy==1.8.9, decorator==5.1.1, distlib==0.3.9, executing==2.1.0, filelock==3.16.1, fonttools==4.55.0, imbalanced_learn==0.12.4, imblearn==0.0, importlib_metadata==8.5.0, importlib_resources==6.4.5, ipykernel==6.29.5, ipython==8.12.3, jedi==0.19.2, joblib==1.4.2, jupyter_client==8.6.3, jupyter_core==5.7.2, kiwisolver==1.4.7, matplotlib==3.7.5, matplotlib_inline==0.1.7, nest_asyncio==1.6.0, numpy==1.24.4, packaging==24.2, pandas==2.0.3, parso==0.8.4, pexpect==4.9.0, pickleshare==0.7.5, pillow==10.4.0, pip==24.3.1, platformdirs==4.3.6, prompt_toolkit==3.0.48, psutil==6.1.0, ptyprocess==0.7.0, pure_eval==0.2.3, pygments==2.18.0, pyparsing==3.1.4, python_dateutil==2.9.0.post0, pytz==2024.2, pyzmq==26.2.0, scikit_learn==1.3.2, scipy==1.10.1, seaborn==0.13.2, setuptools==75.3.0, six==1.16.0, stack_data==0.6.3, threadpoolctl==3.5.0, tornado==6.4.2, traitlets==5.14.3, typing_extensions==4.12.2, tzdata==2024.2, virtualenv==20.27.1, wcwidth==0.2.13, wheel==0.44.0, zipp==3.20.2\n",
      "  activators BashActivator,CShellActivator,FishActivator,NushellActivator,PowerShellActivator,PythonActivator\n",
      "Requirement already satisfied: ipykernel in ./myenv/lib/python3.8/site-packages (6.29.5)\n",
      "Requirement already satisfied: comm>=0.1.1 in ./myenv/lib/python3.8/site-packages (from ipykernel) (0.2.2)\n",
      "Requirement already satisfied: debugpy>=1.6.5 in ./myenv/lib/python3.8/site-packages (from ipykernel) (1.8.9)\n",
      "Requirement already satisfied: ipython>=7.23.1 in ./myenv/lib/python3.8/site-packages (from ipykernel) (8.12.3)\n",
      "Requirement already satisfied: jupyter-client>=6.1.12 in ./myenv/lib/python3.8/site-packages (from ipykernel) (8.6.3)\n",
      "Requirement already satisfied: jupyter-core!=5.0.*,>=4.12 in ./myenv/lib/python3.8/site-packages (from ipykernel) (5.7.2)\n",
      "Requirement already satisfied: matplotlib-inline>=0.1 in ./myenv/lib/python3.8/site-packages (from ipykernel) (0.1.7)\n",
      "Requirement already satisfied: nest-asyncio in ./myenv/lib/python3.8/site-packages (from ipykernel) (1.6.0)\n",
      "Requirement already satisfied: packaging in ./myenv/lib/python3.8/site-packages (from ipykernel) (24.2)\n",
      "Requirement already satisfied: psutil in ./myenv/lib/python3.8/site-packages (from ipykernel) (6.1.0)\n",
      "Requirement already satisfied: pyzmq>=24 in ./myenv/lib/python3.8/site-packages (from ipykernel) (26.2.0)\n",
      "Requirement already satisfied: tornado>=6.1 in ./myenv/lib/python3.8/site-packages (from ipykernel) (6.4.2)\n",
      "Requirement already satisfied: traitlets>=5.4.0 in ./myenv/lib/python3.8/site-packages (from ipykernel) (5.14.3)\n",
      "Requirement already satisfied: backcall in ./myenv/lib/python3.8/site-packages (from ipython>=7.23.1->ipykernel) (0.2.0)\n",
      "Requirement already satisfied: decorator in ./myenv/lib/python3.8/site-packages (from ipython>=7.23.1->ipykernel) (5.1.1)\n",
      "Requirement already satisfied: jedi>=0.16 in ./myenv/lib/python3.8/site-packages (from ipython>=7.23.1->ipykernel) (0.19.2)\n",
      "Requirement already satisfied: pickleshare in ./myenv/lib/python3.8/site-packages (from ipython>=7.23.1->ipykernel) (0.7.5)\n",
      "Requirement already satisfied: prompt-toolkit!=3.0.37,<3.1.0,>=3.0.30 in ./myenv/lib/python3.8/site-packages (from ipython>=7.23.1->ipykernel) (3.0.48)\n",
      "Requirement already satisfied: pygments>=2.4.0 in ./myenv/lib/python3.8/site-packages (from ipython>=7.23.1->ipykernel) (2.18.0)\n",
      "Requirement already satisfied: stack-data in ./myenv/lib/python3.8/site-packages (from ipython>=7.23.1->ipykernel) (0.6.3)\n",
      "Requirement already satisfied: typing-extensions in ./myenv/lib/python3.8/site-packages (from ipython>=7.23.1->ipykernel) (4.12.2)\n",
      "Requirement already satisfied: pexpect>4.3 in ./myenv/lib/python3.8/site-packages (from ipython>=7.23.1->ipykernel) (4.9.0)\n",
      "Requirement already satisfied: importlib-metadata>=4.8.3 in ./myenv/lib/python3.8/site-packages (from jupyter-client>=6.1.12->ipykernel) (8.5.0)\n",
      "Requirement already satisfied: python-dateutil>=2.8.2 in ./myenv/lib/python3.8/site-packages (from jupyter-client>=6.1.12->ipykernel) (2.9.0.post0)\n",
      "Requirement already satisfied: platformdirs>=2.5 in ./myenv/lib/python3.8/site-packages (from jupyter-core!=5.0.*,>=4.12->ipykernel) (4.3.6)\n",
      "Requirement already satisfied: zipp>=3.20 in ./myenv/lib/python3.8/site-packages (from importlib-metadata>=4.8.3->jupyter-client>=6.1.12->ipykernel) (3.20.2)\n",
      "Requirement already satisfied: parso<0.9.0,>=0.8.4 in ./myenv/lib/python3.8/site-packages (from jedi>=0.16->ipython>=7.23.1->ipykernel) (0.8.4)\n",
      "Requirement already satisfied: ptyprocess>=0.5 in ./myenv/lib/python3.8/site-packages (from pexpect>4.3->ipython>=7.23.1->ipykernel) (0.7.0)\n",
      "Requirement already satisfied: wcwidth in ./myenv/lib/python3.8/site-packages (from prompt-toolkit!=3.0.37,<3.1.0,>=3.0.30->ipython>=7.23.1->ipykernel) (0.2.13)\n",
      "Requirement already satisfied: six>=1.5 in ./myenv/lib/python3.8/site-packages (from python-dateutil>=2.8.2->jupyter-client>=6.1.12->ipykernel) (1.16.0)\n",
      "Requirement already satisfied: executing>=1.2.0 in ./myenv/lib/python3.8/site-packages (from stack-data->ipython>=7.23.1->ipykernel) (2.1.0)\n",
      "Requirement already satisfied: asttokens>=2.1.0 in ./myenv/lib/python3.8/site-packages (from stack-data->ipython>=7.23.1->ipykernel) (2.4.1)\n",
      "Requirement already satisfied: pure-eval in ./myenv/lib/python3.8/site-packages (from stack-data->ipython>=7.23.1->ipykernel) (0.2.3)\n",
      "Requirement already satisfied: numpy in ./myenv/lib/python3.8/site-packages (1.24.4)\n",
      "Requirement already satisfied: pandas in ./myenv/lib/python3.8/site-packages (2.0.3)\n",
      "Requirement already satisfied: scikit-learn in ./myenv/lib/python3.8/site-packages (1.3.2)\n",
      "Requirement already satisfied: matplotlib in ./myenv/lib/python3.8/site-packages (3.7.5)\n",
      "Requirement already satisfied: seaborn in ./myenv/lib/python3.8/site-packages (0.13.2)\n",
      "Requirement already satisfied: imblearn in ./myenv/lib/python3.8/site-packages (0.0)\n",
      "Requirement already satisfied: python-dateutil>=2.8.2 in ./myenv/lib/python3.8/site-packages (from pandas) (2.9.0.post0)\n",
      "Requirement already satisfied: pytz>=2020.1 in ./myenv/lib/python3.8/site-packages (from pandas) (2024.2)\n",
      "Requirement already satisfied: tzdata>=2022.1 in ./myenv/lib/python3.8/site-packages (from pandas) (2024.2)\n",
      "Requirement already satisfied: scipy>=1.5.0 in ./myenv/lib/python3.8/site-packages (from scikit-learn) (1.10.1)\n",
      "Requirement already satisfied: joblib>=1.1.1 in ./myenv/lib/python3.8/site-packages (from scikit-learn) (1.4.2)\n",
      "Requirement already satisfied: threadpoolctl>=2.0.0 in ./myenv/lib/python3.8/site-packages (from scikit-learn) (3.5.0)\n",
      "Requirement already satisfied: contourpy>=1.0.1 in ./myenv/lib/python3.8/site-packages (from matplotlib) (1.1.1)\n",
      "Requirement already satisfied: cycler>=0.10 in ./myenv/lib/python3.8/site-packages (from matplotlib) (0.12.1)\n",
      "Requirement already satisfied: fonttools>=4.22.0 in ./myenv/lib/python3.8/site-packages (from matplotlib) (4.55.0)\n",
      "Requirement already satisfied: kiwisolver>=1.0.1 in ./myenv/lib/python3.8/site-packages (from matplotlib) (1.4.7)\n",
      "Requirement already satisfied: packaging>=20.0 in ./myenv/lib/python3.8/site-packages (from matplotlib) (24.2)\n",
      "Requirement already satisfied: pillow>=6.2.0 in ./myenv/lib/python3.8/site-packages (from matplotlib) (10.4.0)\n",
      "Requirement already satisfied: pyparsing>=2.3.1 in ./myenv/lib/python3.8/site-packages (from matplotlib) (3.1.4)\n",
      "Requirement already satisfied: importlib-resources>=3.2.0 in ./myenv/lib/python3.8/site-packages (from matplotlib) (6.4.5)\n",
      "Requirement already satisfied: imbalanced-learn in ./myenv/lib/python3.8/site-packages (from imblearn) (0.12.4)\n",
      "Requirement already satisfied: zipp>=3.1.0 in ./myenv/lib/python3.8/site-packages (from importlib-resources>=3.2.0->matplotlib) (3.20.2)\n",
      "Requirement already satisfied: six>=1.5 in ./myenv/lib/python3.8/site-packages (from python-dateutil>=2.8.2->pandas) (1.16.0)\n",
      "Installed kernelspec myenv in /home/dev-nouvenn/.local/share/jupyter/kernels/myenv\n"
     ]
    }
   ],
   "source": [
    "%%bash\n",
    "set -e\n",
    "\n",
    "pip install virtualenv\n",
    "\n",
    "# Create virtual environment\n",
    "python3 -m virtualenv myenv\n",
    "source ./myenv/bin/activate\n",
    "./myenv/bin/pip install ipykernel\n",
    "./myenv/bin/pip install numpy pandas scikit-learn matplotlib seaborn imblearn\n",
    "./myenv/bin/pip freeze > requirements.txt\n",
    "python3 -m ipykernel install --user --name=myenv --display-name \"Python3 (myenv)\""
   ]
  },
  {
   "cell_type": "code",
   "execution_count": 171,
   "metadata": {},
   "outputs": [],
   "source": [
    "import numpy as np\n",
    "import pandas as pd\n",
    "from sklearn.model_selection import train_test_split\n",
    "from sklearn.ensemble import IsolationForest\n",
    "from sklearn.model_selection import GridSearchCV\n",
    "import matplotlib.pyplot as plt\n",
    "from datetime import datetime, timezone\n",
    "from sklearn.metrics import classification_report, confusion_matrix\n",
    "from sklearn.metrics import make_scorer\n",
    "from imblearn.over_sampling import SMOTE\n",
    "from sklearn.metrics import confusion_matrix\n",
    "import seaborn as sns\n",
    "import matplotlib.pyplot as plt"
   ]
  },
  {
   "cell_type": "code",
   "execution_count": 172,
   "metadata": {},
   "outputs": [],
   "source": [
    "# Criando a função de scorer personalizada (com base no classification_report)\n",
    "def custom_scorer(y_true, y_pred):\n",
    "    # Manter o valor de 1 como normal e -1 como anômalo, já que estamos tratando de rótulos do tipo +1 e -1\n",
    "    y_pred = np.where(y_pred == 1, 1, -1)\n",
    "    return classification_report(y_true, y_pred, output_dict=True)['recall']\n",
    "\n",
    "def train(X, Y):\n",
    "    model = IsolationForest(random_state=42)\n",
    "\n",
    "    param_grid = {\n",
    "        'n_estimators': [10, 50, 100, 200, 300, 400],  # Number of trees\n",
    "        'max_samples': ['auto', 0.5, 0.7],  # Fraction of samples to use for fitting each tree\n",
    "        'contamination': ['auto', 0.1, 0.25, 0.5],  # Fraction of outliers\n",
    "        'max_features': [1.0, 0.5]  # Number of features to consider when splitting a node\n",
    "    }\n",
    "\n",
    "    scorer = make_scorer(custom_scorer, greater_is_better=True)\n",
    "\n",
    "    # Set up GridSearchCV\n",
    "    grid_search = GridSearchCV(estimator=model, param_grid=param_grid, cv=3, verbose=2, n_jobs=-1, scoring='precision')\n",
    "\n",
    "    # Fit\n",
    "    grid_search.fit(X, Y)\n",
    "\n",
    "    best_params = grid_search.best_params_\n",
    "    best_model = grid_search.best_estimator_\n",
    "\n",
    "    return best_model, best_params\n",
    "\n",
    "def evaluate(y_pred, y_test):\n",
    "    print(\"Classification Report:\")\n",
    "    print(classification_report(y_test, y_pred))\n",
    "\n",
    "    print(\"Confusion Matrix:\")\n",
    "    print(confusion_matrix(y_test, y_pred))"
   ]
  },
  {
   "cell_type": "markdown",
   "metadata": {},
   "source": [
    "### Reading both Datasets"
   ]
  },
  {
   "cell_type": "code",
   "execution_count": 173,
   "metadata": {},
   "outputs": [],
   "source": [
    "df_full = pd.read_csv('full_cleaned_dataset.csv')\n",
    "df_night = pd.read_csv('features_night.csv')\n",
    "df_day = pd.read_csv('features_day.csv')"
   ]
  },
  {
   "cell_type": "markdown",
   "metadata": {},
   "source": [
    "### Working with Dataset from Night"
   ]
  },
  {
   "cell_type": "code",
   "execution_count": 174,
   "metadata": {},
   "outputs": [
    {
     "data": {
      "text/plain": [
       "Index(['Unnamed: 0', 'state', 'iRms', 'reactivePotency', 'luminosityLux',\n",
       "       'fail'],\n",
       "      dtype='object')"
      ]
     },
     "execution_count": 174,
     "metadata": {},
     "output_type": "execute_result"
    }
   ],
   "source": [
    "df_night.columns"
   ]
  },
  {
   "cell_type": "code",
   "execution_count": 175,
   "metadata": {},
   "outputs": [
    {
     "data": {
      "text/plain": [
       "Index(['iRms', 'reactivePotency', 'luminosityLux'], dtype='object')"
      ]
     },
     "execution_count": 175,
     "metadata": {},
     "output_type": "execute_result"
    }
   ],
   "source": [
    "df_features_night = df_night.drop(columns=['Unnamed: 0', 'state', 'fail'])\n",
    "df_features_night.columns"
   ]
  },
  {
   "cell_type": "code",
   "execution_count": 176,
   "metadata": {},
   "outputs": [
    {
     "data": {
      "text/plain": [
       "fail\n",
       "False    744\n",
       "True     112\n",
       "Name: count, dtype: int64"
      ]
     },
     "execution_count": 176,
     "metadata": {},
     "output_type": "execute_result"
    }
   ],
   "source": [
    "df_target_night = df_night['fail']\n",
    "df_target_night.value_counts()"
   ]
  },
  {
   "cell_type": "code",
   "execution_count": 177,
   "metadata": {},
   "outputs": [],
   "source": [
    "df_target_night = pd.Series(np.where(df_target_night, -1, 1), index=df_target_night.index)"
   ]
  },
  {
   "cell_type": "code",
   "execution_count": 178,
   "metadata": {},
   "outputs": [],
   "source": [
    "model = IsolationForest(random_state=42, contamination=0.01)\n",
    "y_pred = model.fit_predict(df_features_night)"
   ]
  },
  {
   "cell_type": "code",
   "execution_count": 179,
   "metadata": {},
   "outputs": [
    {
     "name": "stdout",
     "output_type": "stream",
     "text": [
      "Classification Report:\n",
      "              precision    recall  f1-score   support\n",
      "\n",
      "          -1       0.38      0.03      0.05       112\n",
      "           1       0.87      0.99      0.93       744\n",
      "\n",
      "    accuracy                           0.87       856\n",
      "   macro avg       0.62      0.51      0.49       856\n",
      "weighted avg       0.81      0.87      0.81       856\n",
      "\n",
      "Confusion Matrix:\n",
      "[[  3 109]\n",
      " [  5 739]]\n"
     ]
    }
   ],
   "source": [
    "evaluate(y_pred, df_target_night)"
   ]
  },
  {
   "cell_type": "code",
   "execution_count": 180,
   "metadata": {},
   "outputs": [],
   "source": [
    "y_pred = pd.DataFrame(y_pred,columns=['predict'])\n",
    "df_export = pd.concat([df_features_night, y_pred, df_target_night], axis=1)\n",
    "df_export.to_csv('result_night.csv')"
   ]
  },
  {
   "cell_type": "code",
   "execution_count": 184,
   "metadata": {},
   "outputs": [
    {
     "name": "stdout",
     "output_type": "stream",
     "text": [
      "[ 1  1  1  1  1  1  1  1  1  1  1  1  1  1  1  1  1  1  1  1  1  1  1  1\n",
      "  1  1  1  1  1  1  1  1  1  1  1  1  1  1  1  1  1  1  1  1  1  1  1  1\n",
      "  1  1  1  1  1  1  1  1  1  1  1  1  1  1  1  1  1  1  1  1  1  1  1  1\n",
      "  1  1  1  1  1  1  1  1  1  1  1  1  1  1  1  1  1  1  1  1  1  1  1  1\n",
      "  1  1  1  1  1  1  1  1  1  1  1  1  1  1  1  1  1  1  1  1  1  1  1  1\n",
      "  1  1  1  1  1  1  1  1  1  1  1  1  1  1  1  1  1  1  1  1  1  1  1  1\n",
      "  1  1  1  1  1  1  1  1  1  1  1  1  1  1  1  1  1  1  1  1  1  1  1  1\n",
      "  1  1  1  1  1  1  1  1  1  1  1  1  1  1  1  1  1  1  1  1  1  1  1  1\n",
      "  1  1  1  1  1  1  1  1  1  1  1  1  1  1  1  1  1  1  1  1  1  1  1  1\n",
      "  1  1  1  1  1  1  1  1  1  1  1  1  1  1  1  1  1  1  1  1  1  1  1  1\n",
      "  1  1  1  1  1  1  1  1  1  1  1  1  1  1  1  1  1  1  1  1  1  1  1  1\n",
      "  1  1  1  1  1  1  1  1  1  1  1  1  1  1  1  1  1  1  1  1  1  1  1  1\n",
      "  1  1  1  1  1  1  1  1  1  1  1  1  1  1  1  1  1  1  1  1  1  1  1  1\n",
      "  1  1  1  1  1  1  1  1  1  1  1  1  1  1  1  1  1  1  1  1  1  1  1  1\n",
      "  1  1  1  1  1  1  1  1  1  1  1  1  1  1  1  1  1  1  1  1  1  1  1  1\n",
      "  1  1  1  1  1  1  1  1  1  1  1  1  1  1  1  1  1  1  1  1  1  1  1  1\n",
      "  1  1  1  1  1  1  1  1  1  1  1  1  1  1  1  1  1  1  1  1  1  1  1  1\n",
      "  1  1  1  1  1  1  1  1  1  1  1  1  1  1  1  1  1  1  1  1  1  1  1  1\n",
      "  1  1  1  1  1  1  1  1  1  1  1  1  1  1  1  1  1  1  1  1 -1  1  1  1\n",
      "  1  1  1  1  1  1  1  1  1  1  1  1  1  1  1  1  1  1  1  1  1  1  1  1\n",
      "  1  1  1  1  1  1  1  1  1 -1  1  1  1  1  1  1  1  1  1  1  1  1  1  1\n",
      "  1  1  1  1  1  1  1  1  1  1  1  1  1  1  1  1  1  1  1  1  1  1  1  1\n",
      "  1  1  1  1  1  1  1  1  1  1  1  1  1  1  1  1 -1  1  1  1  1  1  1  1\n",
      "  1  1  1  1  1  1  1  1  1  1  1  1  1  1 -1  1  1  1  1  1 -1  1  1  1\n",
      "  1  1  1  1  1  1  1 -1  1  1  1  1 -1  1  1  1  1  1  1  1  1  1  1  1\n",
      "  1 -1  1  1  1  1  1  1  1  1  1  1  1  1  1  1  1  1  1  1  1  1  1  1\n",
      "  1  1  1  1  1  1  1  1  1  1  1  1  1  1  1  1  1  1  1  1  1  1  1  1\n",
      "  1  1  1  1  1  1  1  1  1  1  1  1  1  1  1  1  1  1  1  1  1  1  1  1\n",
      "  1  1  1  1  1  1  1  1  1  1  1  1  1  1  1  1  1  1  1  1  1  1  1  1\n",
      "  1  1  1  1  1  1  1  1  1  1  1  1  1  1  1  1  1  1  1  1  1  1  1  1\n",
      "  1  1  1  1  1  1  1  1  1  1  1  1  1  1  1  1  1  1  1  1  1  1  1  1\n",
      "  1  1  1  1  1  1  1  1  1  1  1  1  1  1  1  1  1  1  1  1  1  1  1  1\n",
      "  1  1  1  1  1  1  1  1  1  1  1  1  1  1  1  1  1  1  1  1  1  1  1  1\n",
      "  1  1  1  1  1  1  1  1  1  1  1  1  1  1  1  1  1  1  1  1  1  1  1  1\n",
      "  1  1  1  1  1  1  1  1  1  1  1  1  1  1  1  1  1  1  1  1  1  1  1  1\n",
      "  1  1  1  1  1  1  1  1  1  1  1  1  1  1  1  1]\n"
     ]
    },
    {
     "data": {
      "image/png": "[encoded data removed]",
      "text/plain": [
       "<Figure size 600x600 with 3 Axes>"
      ]
     },
     "metadata": {},
     "output_type": "display_data"
    }
   ],
   "source": [
    "y_pred_np = np.array(y_pred).flatten()\n",
    "df_features_night['iRms'] = df_features_night['iRms']\n",
    "print(y_pred_np)\n",
    "sns.set_theme(style=\"whitegrid\")  # Estilo mais limpo\n",
    "plot = sns.jointplot(\n",
    "    data=df_features_night, \n",
    "    x=\"iRms\", \n",
    "    y=\"luminosityLux\", \n",
    "    hue=y_pred_np,\n",
    "    palette={-1: \"salmon\", 1: \"navy\"},  # Paleta de cores personalizada\n",
    "    alpha=0.7,  # Transparência\n",
    "    s=40,  # Tamanho dos pontos\n",
    ")\n",
    "\n",
    "# Ajustes no eixo X (log)\n",
    "plot.ax_joint.set_xscale('log')\n",
    "plot.ax_joint.xaxis.set_major_formatter(plt.FuncFormatter(lambda x, _: f'{x:.1e}'))\n",
    "\n",
    "# Melhorar os rótulos\n",
    "plot.ax_joint.set_xlabel(\"Corrente RMS mA [log scale]\", fontsize=12)\n",
    "plot.ax_joint.set_ylabel(\"Luminosidade (lux)\", fontsize=12)\n",
    "\n",
    "# Ajustar a legenda\n",
    "plot.ax_joint.legend_.set_title(\"Classificação\")\n",
    "plot.ax_joint.legend_.set_bbox_to_anchor((0, 1))  # Coloca fora do gráfico principal\n",
    "\n",
    "plt.tight_layout()  # Ajusta espaçamentos\n",
    "plt.show()"
   ]
  },
  {
   "cell_type": "markdown",
   "metadata": {},
   "source": [
    "### Working with Dataset from Day"
   ]
  },
  {
   "cell_type": "code",
   "execution_count": 148,
   "metadata": {},
   "outputs": [
    {
     "data": {
      "text/plain": [
       "Index(['Unnamed: 0', 'state', 'iRms', 'reactivePotency', 'luminosityLux',\n",
       "       'fail'],\n",
       "      dtype='object')"
      ]
     },
     "execution_count": 148,
     "metadata": {},
     "output_type": "execute_result"
    }
   ],
   "source": [
    "df_day.columns"
   ]
  },
  {
   "cell_type": "code",
   "execution_count": 149,
   "metadata": {},
   "outputs": [
    {
     "data": {
      "text/plain": [
       "Index(['iRms', 'reactivePotency', 'luminosityLux'], dtype='object')"
      ]
     },
     "execution_count": 149,
     "metadata": {},
     "output_type": "execute_result"
    }
   ],
   "source": [
    "df_features_day = df_day.drop(columns=['Unnamed: 0', 'state', 'fail'])\n",
    "df_features_day.columns"
   ]
  },
  {
   "cell_type": "code",
   "execution_count": 150,
   "metadata": {},
   "outputs": [
    {
     "data": {
      "text/plain": [
       "fail\n",
       "False    712\n",
       "True      96\n",
       "Name: count, dtype: int64"
      ]
     },
     "execution_count": 150,
     "metadata": {},
     "output_type": "execute_result"
    }
   ],
   "source": [
    "df_target_day = df_day['fail']\n",
    "df_target_day.value_counts()"
   ]
  },
  {
   "cell_type": "code",
   "execution_count": 151,
   "metadata": {},
   "outputs": [],
   "source": [
    "df_target_day = pd.Series(np.where(df_target_day, -1, 1), index=df_target_day.index)"
   ]
  },
  {
   "cell_type": "code",
   "execution_count": 152,
   "metadata": {},
   "outputs": [],
   "source": [
    "model = IsolationForest(random_state=42, contamination=0.025)\n",
    "y_pred = model.fit_predict(df_features_day)"
   ]
  },
  {
   "cell_type": "code",
   "execution_count": 153,
   "metadata": {},
   "outputs": [
    {
     "name": "stdout",
     "output_type": "stream",
     "text": [
      "Classification Report:\n",
      "              precision    recall  f1-score   support\n",
      "\n",
      "          -1       0.14      0.03      0.05        96\n",
      "           1       0.88      0.97      0.93       712\n",
      "\n",
      "    accuracy                           0.86       808\n",
      "   macro avg       0.51      0.50      0.49       808\n",
      "weighted avg       0.79      0.86      0.82       808\n",
      "\n",
      "Confusion Matrix:\n",
      "[[  3  93]\n",
      " [ 18 694]]\n"
     ]
    }
   ],
   "source": [
    "evaluate(y_pred, df_target_day)"
   ]
  },
  {
   "cell_type": "code",
   "execution_count": 154,
   "metadata": {},
   "outputs": [],
   "source": [
    "y_pred = pd.DataFrame(y_pred,columns=['predict'])\n",
    "df_export = pd.concat([df_features_day, y_pred], axis=1)\n",
    "df_export.to_csv('result_day.csv')"
   ]
  },
  {
   "cell_type": "code",
   "execution_count": 155,
   "metadata": {},
   "outputs": [
    {
     "name": "stdout",
     "output_type": "stream",
     "text": [
      "[ 1  1  1  1  1  1 -1  1  1  1  1  1  1  1  1  1  1  1  1  1  1  1  1  1\n",
      "  1  1  1  1  1  1  1  1  1  1  1  1  1  1  1  1  1  1  1  1  1  1 -1  1\n",
      "  1  1  1  1  1  1  1  1  1  1  1  1  1  1  1  1  1  1  1  1  1  1  1  1\n",
      "  1  1  1  1  1  1  1  1  1  1  1  1  1  1  1  1  1  1  1  1  1  1  1  1\n",
      "  1  1  1  1  1  1  1  1  1  1  1  1  1  1  1  1  1  1  1  1  1  1  1  1\n",
      "  1  1  1  1  1  1  1  1  1  1  1  1  1  1  1  1  1  1  1  1  1  1  1  1\n",
      "  1  1  1  1  1  1  1  1  1  1  1  1  1  1  1 -1  1  1  1  1  1  1  1  1\n",
      "  1  1  1  1  1  1  1  1  1  1  1  1  1  1  1  1  1  1  1  1  1  1  1  1\n",
      "  1  1  1  1  1  1 -1  1  1  1  1  1  1  1  1  1  1  1  1  1  1  1  1  1\n",
      "  1  1  1  1  1  1  1  1  1  1  1  1  1  1  1 -1  1  1  1  1  1  1  1  1\n",
      "  1  1  1  1  1  1  1  1  1  1  1  1  1  1  1  1  1  1  1  1  1  1  1  1\n",
      "  1  1 -1  1  1  1  1  1  1  1  1  1  1  1  1  1  1  1  1  1  1  1  1  1\n",
      "  1  1  1  1  1  1  1  1  1  1  1  1  1  1  1  1  1  1  1 -1  1  1  1  1\n",
      "  1  1  1  1  1  1  1  1  1  1  1  1  1  1  1  1  1  1  1  1  1  1  1  1\n",
      "  1  1  1  1  1  1  1  1  1  1  1  1  1  1  1  1  1  1  1  1  1  1  1  1\n",
      "  1  1  1  1  1  1  1  1  1  1  1  1  1  1  1  1  1  1  1  1  1  1  1  1\n",
      "  1  1  1  1  1  1  1  1  1  1  1  1  1  1  1  1  1  1  1  1  1  1  1  1\n",
      "  1  1  1  1  1  1  1  1  1  1  1  1  1  1  1  1  1  1  1  1  1  1  1  1\n",
      "  1  1  1  1  1  1  1  1 -1  1 -1  1  1  1  1  1  1  1  1  1  1 -1  1  1\n",
      "  1  1  1  1  1  1  1  1  1  1  1  1  1  1  1  1  1 -1  1  1  1  1  1  1\n",
      "  1  1  1  1  1  1  1  1  1  1  1  1  1  1  1  1  1  1  1  1  1  1  1  1\n",
      "  1  1 -1 -1 -1 -1  1  1  1  1  1  1  1  1  1  1  1  1  1  1  1  1  1  1\n",
      "  1  1  1  1  1  1  1  1  1  1  1  1  1  1  1  1  1  1  1  1  1  1  1  1\n",
      "  1  1  1  1  1  1  1  1  1  1  1  1 -1  1 -1  1  1  1  1  1  1  1  1  1\n",
      "  1  1  1  1  1  1  1  1  1  1  1  1  1  1  1 -1  1  1  1  1  1  1  1  1\n",
      "  1  1  1  1  1  1  1  1  1  1  1  1  1  1  1  1  1  1  1  1  1  1  1  1\n",
      "  1  1  1  1  1  1  1  1  1  1  1  1  1  1  1  1  1  1  1  1  1  1  1  1\n",
      "  1  1  1  1  1 -1  1  1  1  1  1  1  1  1  1  1  1  1  1  1  1  1  1  1\n",
      "  1  1  1  1  1  1  1  1  1  1  1  1  1  1  1  1  1  1  1  1  1  1  1  1\n",
      "  1  1  1  1  1  1  1  1  1  1  1  1  1  1  1  1  1  1 -1  1  1  1  1  1\n",
      " -1  1  1  1  1  1  1  1  1  1  1  1  1  1  1  1  1  1  1  1  1  1  1  1\n",
      "  1  1  1  1  1  1  1  1  1  1  1  1  1  1  1  1  1  1  1  1  1  1  1  1\n",
      "  1  1  1  1  1  1  1  1  1  1  1  1  1  1  1  1  1  1  1  1  1  1  1  1\n",
      "  1  1  1  1  1  1  1  1  1  1  1  1  1  1  1  1]\n"
     ]
    },
    {
     "data": {
      "image/png": "[encoded data removed]",
      "text/plain": [
       "<Figure size 600x600 with 3 Axes>"
      ]
     },
     "metadata": {},
     "output_type": "display_data"
    }
   ],
   "source": [
    "y_pred_np = np.array(y_pred).flatten()\n",
    "df_features_day['iRms'] = df_features_day['iRms']\n",
    "print(y_pred_np)\n",
    "sns.set_theme(style=\"whitegrid\")  # Estilo mais limpo\n",
    "plot = sns.jointplot(\n",
    "    data=df_features_day, \n",
    "    x=\"iRms\", \n",
    "    y=\"luminosityLux\", \n",
    "    hue=y_pred_np,\n",
    "    palette={-1: \"salmon\", 1: \"navy\"},  # Paleta de cores personalizada\n",
    "    alpha=0.7,  # Transparência\n",
    "    s=40,  # Tamanho dos pontos\n",
    ")\n",
    "\n",
    "# Ajustes no eixo X (log)\n",
    "plot.ax_joint.set_xscale('log')\n",
    "plot.ax_joint.xaxis.set_major_formatter(plt.FuncFormatter(lambda x, _: f'{x:.1e}'))\n",
    "\n",
    "# Melhorar os rótulos\n",
    "plot.ax_joint.set_xlabel(\"Corrente RMS mA [log scale]\", fontsize=12)\n",
    "plot.ax_joint.set_ylabel(\"Luminosidade (lux)\", fontsize=12)\n",
    "\n",
    "# Ajustar a legenda\n",
    "plot.ax_joint.legend_.set_title(\"Classificação\")\n",
    "plot.ax_joint.legend_.set_bbox_to_anchor((1, 1))  # Coloca fora do gráfico principal\n",
    "\n",
    "plt.tight_layout()  # Ajusta espaçamentos\n",
    "plt.show()"
   ]
  },
  {
   "cell_type": "code",
   "execution_count": 156,
   "metadata": {},
   "outputs": [
    {
     "data": {
      "text/plain": [
       "iRms\n",
       "12.0     0.444307\n",
       "23.0     0.293317\n",
       "24.0     0.115099\n",
       "25.0     0.045792\n",
       "26.0     0.027228\n",
       "13.0     0.021040\n",
       "22.0     0.016089\n",
       "27.0     0.009901\n",
       "28.0     0.004950\n",
       "15.0     0.004950\n",
       "17.0     0.002475\n",
       "14.0     0.002475\n",
       "645.0    0.002475\n",
       "642.0    0.002475\n",
       "30.0     0.001238\n",
       "29.0     0.001238\n",
       "646.0    0.001238\n",
       "641.0    0.001238\n",
       "644.0    0.001238\n",
       "643.0    0.001238\n",
       "Name: proportion, dtype: float64"
      ]
     },
     "execution_count": 156,
     "metadata": {},
     "output_type": "execute_result"
    }
   ],
   "source": [
    "df_features_day['iRms'].value_counts(normalize=True)"
   ]
  },
  {
   "cell_type": "markdown",
   "metadata": {},
   "source": [
    "### Working with full dataset"
   ]
  },
  {
   "cell_type": "code",
   "execution_count": 157,
   "metadata": {},
   "outputs": [
    {
     "data": {
      "text/plain": [
       "Index(['Unnamed: 0', 'timestamp', 'state', 'iRms', 'reactivePotency',\n",
       "       'luminosityLux', 'fail'],\n",
       "      dtype='object')"
      ]
     },
     "execution_count": 157,
     "metadata": {},
     "output_type": "execute_result"
    }
   ],
   "source": [
    "df_full.columns"
   ]
  },
  {
   "cell_type": "code",
   "execution_count": 158,
   "metadata": {},
   "outputs": [
    {
     "data": {
      "text/plain": [
       "Index(['iRms', 'reactivePotency', 'luminosityLux'], dtype='object')"
      ]
     },
     "execution_count": 158,
     "metadata": {},
     "output_type": "execute_result"
    }
   ],
   "source": [
    "df_features_full = df_full.drop(columns=['timestamp', 'Unnamed: 0', 'state', 'fail'])\n",
    "df_features_full.columns"
   ]
  },
  {
   "cell_type": "code",
   "execution_count": 159,
   "metadata": {},
   "outputs": [
    {
     "data": {
      "text/plain": [
       "fail\n",
       "False    1456\n",
       "True      208\n",
       "Name: count, dtype: int64"
      ]
     },
     "execution_count": 159,
     "metadata": {},
     "output_type": "execute_result"
    }
   ],
   "source": [
    "df_target_full = df_full['fail']\n",
    "df_target_full.value_counts()"
   ]
  },
  {
   "cell_type": "code",
   "execution_count": 160,
   "metadata": {},
   "outputs": [],
   "source": [
    "df_target_full = pd.Series(np.where(df_target_full, -1, 1), index=df_target_full.index)"
   ]
  },
  {
   "cell_type": "code",
   "execution_count": 161,
   "metadata": {},
   "outputs": [],
   "source": [
    "model = IsolationForest(random_state=42, contamination=0.05)\n",
    "y_pred = model.fit_predict(df_features_full)"
   ]
  },
  {
   "cell_type": "code",
   "execution_count": 162,
   "metadata": {},
   "outputs": [
    {
     "name": "stdout",
     "output_type": "stream",
     "text": [
      "Classification Report:\n",
      "              precision    recall  f1-score   support\n",
      "\n",
      "          -1       0.21      0.09      0.12       208\n",
      "           1       0.88      0.95      0.92      1456\n",
      "\n",
      "    accuracy                           0.85      1664\n",
      "   macro avg       0.55      0.52      0.52      1664\n",
      "weighted avg       0.80      0.85      0.82      1664\n",
      "\n",
      "Confusion Matrix:\n",
      "[[  18  190]\n",
      " [  66 1390]]\n"
     ]
    }
   ],
   "source": [
    "evaluate(y_pred, df_target_full)"
   ]
  },
  {
   "cell_type": "code",
   "execution_count": 163,
   "metadata": {},
   "outputs": [],
   "source": [
    "y_pred = pd.DataFrame(y_pred,columns=['predict'])\n",
    "df_export = pd.concat([df_features_full, y_pred], axis=1)\n",
    "df_export.to_csv('result_full.csv')"
   ]
  },
  {
   "cell_type": "markdown",
   "metadata": {},
   "source": [
    "### Tuning the model"
   ]
  },
  {
   "cell_type": "code",
   "execution_count": 164,
   "metadata": {},
   "outputs": [
    {
     "name": "stdout",
     "output_type": "stream",
     "text": [
      "Fitting 3 folds for each of 144 candidates, totalling 432 fits\n",
      "[CV] END contamination=auto, max_features=1.0, max_samples=auto, n_estimators=10; total time=   0.0s\n",
      "[CV] END contamination=auto, max_features=1.0, max_samples=auto, n_estimators=50; total time=   0.1s\n",
      "[CV] END contamination=auto, max_features=1.0, max_samples=auto, n_estimators=10; total time=   0.0s\n",
      "[CV] END contamination=auto, max_features=1.0, max_samples=auto, n_estimators=10; total time=   0.0s\n",
      "[CV] END contamination=auto, max_features=1.0, max_samples=auto, n_estimators=50; total time=   0.1s\n",
      "[CV] END contamination=auto, max_features=1.0, max_samples=auto, n_estimators=100; total time=   0.2s\n",
      "[CV] END contamination=auto, max_features=1.0, max_samples=auto, n_estimators=50; total time=   0.1s\n",
      "[CV] END contamination=auto, max_features=1.0, max_samples=auto, n_estimators=100; total time=   0.2s\n",
      "[CV] END contamination=auto, max_features=1.0, max_samples=auto, n_estimators=100; total time=   0.2s\n",
      "[CV] END contamination=auto, max_features=1.0, max_samples=auto, n_estimators=200; total time=   0.3s\n",
      "[CV] END contamination=auto, max_features=1.0, max_samples=auto, n_estimators=200; total time=   0.4s\n",
      "[CV] END contamination=auto, max_features=1.0, max_samples=auto, n_estimators=200; total time=   0.4s\n",
      "[CV] END contamination=auto, max_features=1.0, max_samples=0.5, n_estimators=10; total time=   0.0s\n",
      "[CV] END contamination=auto, max_features=1.0, max_samples=0.5, n_estimators=10; total time=   0.0s\n",
      "[CV] END contamination=auto, max_features=1.0, max_samples=0.5, n_estimators=10; total time=   0.0s\n",
      "[CV] END contamination=auto, max_features=1.0, max_samples=0.5, n_estimators=50; total time=   0.1s\n",
      "[CV] END contamination=auto, max_features=1.0, max_samples=0.5, n_estimators=50; total time=   0.1s\n",
      "[CV] END contamination=auto, max_features=1.0, max_samples=auto, n_estimators=300; total time=   0.6s\n",
      "[CV] END contamination=auto, max_features=1.0, max_samples=auto, n_estimators=300; total time=   0.5s\n",
      "[CV] END contamination=auto, max_features=1.0, max_samples=0.5, n_estimators=50; total time=   0.1s\n",
      "[CV] END contamination=auto, max_features=1.0, max_samples=auto, n_estimators=300; total time=   0.6s\n",
      "[CV] END contamination=auto, max_features=1.0, max_samples=0.5, n_estimators=100; total time=   0.2s\n",
      "[CV] END contamination=auto, max_features=1.0, max_samples=0.5, n_estimators=100; total time=   0.2s\n",
      "[CV] END contamination=auto, max_features=1.0, max_samples=0.5, n_estimators=100; total time=   0.2s\n",
      "[CV] END contamination=auto, max_features=1.0, max_samples=auto, n_estimators=400; total time=   0.8s\n",
      "[CV] END contamination=auto, max_features=1.0, max_samples=auto, n_estimators=400; total time=   0.7s\n",
      "[CV] END contamination=auto, max_features=1.0, max_samples=0.5, n_estimators=200; total time=   0.4s\n",
      "[CV] END contamination=auto, max_features=1.0, max_samples=0.5, n_estimators=200; total time=   0.4s\n",
      "[CV] END contamination=auto, max_features=1.0, max_samples=auto, n_estimators=400; total time=   0.8s\n",
      "[CV] END contamination=auto, max_features=1.0, max_samples=0.7, n_estimators=10; total time=   0.0s\n",
      "[CV] END contamination=auto, max_features=1.0, max_samples=0.7, n_estimators=10; total time=   0.0s\n",
      "[CV] END contamination=auto, max_features=1.0, max_samples=0.7, n_estimators=10; total time=   0.0s\n",
      "[CV] END contamination=auto, max_features=1.0, max_samples=0.5, n_estimators=200; total time=   0.5s\n",
      "[CV] END contamination=auto, max_features=1.0, max_samples=0.7, n_estimators=50; total time=   0.1s\n",
      "[CV] END contamination=auto, max_features=1.0, max_samples=0.7, n_estimators=50; total time=   0.1s\n",
      "[CV] END contamination=auto, max_features=1.0, max_samples=0.7, n_estimators=50; total time=   0.1s\n",
      "[CV] END contamination=auto, max_features=1.0, max_samples=0.5, n_estimators=300; total time=   0.6s\n",
      "[CV] END contamination=auto, max_features=1.0, max_samples=0.5, n_estimators=300; total time=   0.6s\n",
      "[CV] END contamination=auto, max_features=1.0, max_samples=0.5, n_estimators=300; total time=   0.6s\n",
      "[CV] END contamination=auto, max_features=1.0, max_samples=0.7, n_estimators=100; total time=   0.3s\n",
      "[CV] END contamination=auto, max_features=1.0, max_samples=0.7, n_estimators=100; total time=   0.2s\n",
      "[CV] END contamination=auto, max_features=1.0, max_samples=0.7, n_estimators=100; total time=   0.2s\n",
      "[CV] END contamination=auto, max_features=1.0, max_samples=0.5, n_estimators=400; total time=   0.8s\n",
      "[CV] END contamination=auto, max_features=1.0, max_samples=0.7, n_estimators=200; total time=   0.4s\n",
      "[CV] END contamination=auto, max_features=1.0, max_samples=0.5, n_estimators=400; total time=   0.9s\n",
      "[CV] END contamination=auto, max_features=1.0, max_samples=0.7, n_estimators=200; total time=   0.4s\n",
      "[CV] END contamination=auto, max_features=1.0, max_samples=0.5, n_estimators=400; total time=   0.9s\n",
      "[CV] END contamination=auto, max_features=0.5, max_samples=auto, n_estimators=10; total time=   0.0s\n",
      "[CV] END contamination=auto, max_features=0.5, max_samples=auto, n_estimators=10; total time=   0.0s\n",
      "[CV] END contamination=auto, max_features=0.5, max_samples=auto, n_estimators=10; total time=   0.0s\n",
      "[CV] END contamination=auto, max_features=1.0, max_samples=0.7, n_estimators=200; total time=   0.5s\n",
      "[CV] END contamination=auto, max_features=0.5, max_samples=auto, n_estimators=50; total time=   0.1s\n",
      "[CV] END contamination=auto, max_features=0.5, max_samples=auto, n_estimators=50; total time=   0.1s\n",
      "[CV] END contamination=auto, max_features=0.5, max_samples=auto, n_estimators=50; total time=   0.1s\n",
      "[CV] END contamination=auto, max_features=1.0, max_samples=0.7, n_estimators=300; total time=   0.6s\n",
      "[CV] END contamination=auto, max_features=1.0, max_samples=0.7, n_estimators=300; total time=   0.6s\n",
      "[CV] END contamination=auto, max_features=1.0, max_samples=0.7, n_estimators=300; total time=   0.6s\n",
      "[CV] END contamination=auto, max_features=0.5, max_samples=auto, n_estimators=100; total time=   0.2s\n",
      "[CV] END contamination=auto, max_features=0.5, max_samples=auto, n_estimators=100; total time=   0.2s\n",
      "[CV] END contamination=auto, max_features=0.5, max_samples=auto, n_estimators=100; total time=   0.2s\n",
      "[CV] END contamination=auto, max_features=0.5, max_samples=auto, n_estimators=200; total time=   0.4s\n",
      "[CV] END contamination=auto, max_features=1.0, max_samples=0.7, n_estimators=400; total time=   0.8s\n",
      "[CV] END contamination=auto, max_features=1.0, max_samples=0.7, n_estimators=400; total time=   0.8s\n",
      "[CV] END contamination=auto, max_features=0.5, max_samples=auto, n_estimators=200; total time=   0.4s\n",
      "[CV] END contamination=auto, max_features=1.0, max_samples=0.7, n_estimators=400; total time=   0.8s\n",
      "[CV] END contamination=auto, max_features=0.5, max_samples=auto, n_estimators=200; total time=   0.4s\n",
      "[CV] END contamination=auto, max_features=0.5, max_samples=0.5, n_estimators=10; total time=   0.0s\n",
      "[CV] END contamination=auto, max_features=0.5, max_samples=0.5, n_estimators=10; total time=   0.0s\n",
      "[CV] END contamination=auto, max_features=0.5, max_samples=0.5, n_estimators=10; total time=   0.0s\n",
      "[CV] END contamination=auto, max_features=0.5, max_samples=0.5, n_estimators=50; total time=   0.1s\n",
      "[CV] END contamination=auto, max_features=0.5, max_samples=auto, n_estimators=300; total time=   0.5s\n",
      "[CV] END contamination=auto, max_features=0.5, max_samples=0.5, n_estimators=50; total time=   0.1s\n",
      "[CV] END contamination=auto, max_features=0.5, max_samples=auto, n_estimators=300; total time=   0.5s\n",
      "[CV] END contamination=auto, max_features=0.5, max_samples=0.5, n_estimators=50; total time=   0.1s\n",
      "[CV] END contamination=auto, max_features=0.5, max_samples=0.5, n_estimators=100; total time=   0.2s\n",
      "[CV] END contamination=auto, max_features=0.5, max_samples=0.5, n_estimators=100; total time=   0.2s\n",
      "[CV] END contamination=auto, max_features=0.5, max_samples=auto, n_estimators=300; total time=   0.5s\n",
      "[CV] END contamination=auto, max_features=0.5, max_samples=0.5, n_estimators=100; total time=   0.2s\n",
      "[CV] END contamination=auto, max_features=0.5, max_samples=auto, n_estimators=400; total time=   0.7s\n",
      "[CV] END contamination=auto, max_features=0.5, max_samples=auto, n_estimators=400; total time=   0.7s\n",
      "[CV] END contamination=auto, max_features=0.5, max_samples=auto, n_estimators=400; total time=   0.8s\n",
      "[CV] END contamination=auto, max_features=0.5, max_samples=0.5, n_estimators=200; total time=   0.4s\n",
      "[CV] END contamination=auto, max_features=0.5, max_samples=0.5, n_estimators=200; total time=   0.4s\n",
      "[CV] END contamination=auto, max_features=0.5, max_samples=0.5, n_estimators=200; total time=   0.4s\n",
      "[CV] END contamination=auto, max_features=0.5, max_samples=0.7, n_estimators=10; total time=   0.0s\n",
      "[CV] END contamination=auto, max_features=0.5, max_samples=0.7, n_estimators=10; total time=   0.0s\n",
      "[CV] END contamination=auto, max_features=0.5, max_samples=0.7, n_estimators=10; total time=   0.0s\n",
      "[CV] END contamination=auto, max_features=0.5, max_samples=0.7, n_estimators=50; total time=   0.1s\n",
      "[CV] END contamination=auto, max_features=0.5, max_samples=0.7, n_estimators=50; total time=   0.1s\n",
      "[CV] END contamination=auto, max_features=0.5, max_samples=0.5, n_estimators=300; total time=   0.6s\n",
      "[CV] END contamination=auto, max_features=0.5, max_samples=0.7, n_estimators=50; total time=   0.1s\n",
      "[CV] END contamination=auto, max_features=0.5, max_samples=0.5, n_estimators=300; total time=   0.6s\n",
      "[CV] END contamination=auto, max_features=0.5, max_samples=0.7, n_estimators=100; total time=   0.2s\n",
      "[CV] END contamination=auto, max_features=0.5, max_samples=0.7, n_estimators=100; total time=   0.2s\n",
      "[CV] END contamination=auto, max_features=0.5, max_samples=0.7, n_estimators=100; total time=   0.2s\n",
      "[CV] END contamination=auto, max_features=0.5, max_samples=0.5, n_estimators=300; total time=   0.6s\n",
      "[CV] END contamination=auto, max_features=0.5, max_samples=0.5, n_estimators=400; total time=   0.7s\n",
      "[CV] END contamination=auto, max_features=0.5, max_samples=0.7, n_estimators=200; total time=   0.4s\n",
      "[CV] END contamination=auto, max_features=0.5, max_samples=0.5, n_estimators=400; total time=   0.8s\n",
      "[CV] END contamination=auto, max_features=0.5, max_samples=0.7, n_estimators=200; total time=   0.4s\n",
      "[CV] END contamination=auto, max_features=0.5, max_samples=0.5, n_estimators=400; total time=   0.8s\n",
      "[CV] END contamination=auto, max_features=0.5, max_samples=0.7, n_estimators=200; total time=   0.4s\n",
      "[CV] END contamination=0.1, max_features=1.0, max_samples=auto, n_estimators=10; total time=   0.0s\n",
      "[CV] END contamination=0.1, max_features=1.0, max_samples=auto, n_estimators=10; total time=   0.0s\n",
      "[CV] END contamination=0.1, max_features=1.0, max_samples=auto, n_estimators=10; total time=   0.0s\n",
      "[CV] END contamination=0.1, max_features=1.0, max_samples=auto, n_estimators=50; total time=   0.1s\n",
      "[CV] END contamination=0.1, max_features=1.0, max_samples=auto, n_estimators=50; total time=   0.1s\n",
      "[CV] END contamination=auto, max_features=0.5, max_samples=0.7, n_estimators=300; total time=   0.5s\n",
      "[CV] END contamination=0.1, max_features=1.0, max_samples=auto, n_estimators=50; total time=   0.1s\n",
      "[CV] END contamination=0.1, max_features=1.0, max_samples=auto, n_estimators=100; total time=   0.2s\n",
      "[CV] END contamination=auto, max_features=0.5, max_samples=0.7, n_estimators=300; total time=   0.7s\n",
      "[CV] END contamination=0.1, max_features=1.0, max_samples=auto, n_estimators=100; total time=   0.3s\n",
      "[CV] END contamination=auto, max_features=0.5, max_samples=0.7, n_estimators=300; total time=   0.7s\n",
      "[CV] END contamination=0.1, max_features=1.0, max_samples=auto, n_estimators=100; total time=   0.2s\n",
      "[CV] END contamination=auto, max_features=0.5, max_samples=0.7, n_estimators=400; total time=   0.8s\n",
      "[CV] END contamination=auto, max_features=0.5, max_samples=0.7, n_estimators=400; total time=   0.8s\n",
      "[CV] END contamination=0.1, max_features=1.0, max_samples=auto, n_estimators=200; total time=   0.4s\n",
      "[CV] END contamination=0.1, max_features=1.0, max_samples=auto, n_estimators=200; total time=   0.4s\n",
      "[CV] END contamination=auto, max_features=0.5, max_samples=0.7, n_estimators=400; total time=   0.8s\n",
      "[CV] END contamination=0.1, max_features=1.0, max_samples=0.5, n_estimators=10; total time=   0.0s\n",
      "[CV] END contamination=0.1, max_features=1.0, max_samples=auto, n_estimators=200; total time=   0.4s\n",
      "[CV] END contamination=0.1, max_features=1.0, max_samples=0.5, n_estimators=10; total time=   0.0s\n",
      "[CV] END contamination=0.1, max_features=1.0, max_samples=0.5, n_estimators=10; total time=   0.0s\n",
      "[CV] END contamination=0.1, max_features=1.0, max_samples=0.5, n_estimators=50; total time=   0.1s\n",
      "[CV] END contamination=0.1, max_features=1.0, max_samples=0.5, n_estimators=50; total time=   0.1s\n",
      "[CV] END contamination=0.1, max_features=1.0, max_samples=auto, n_estimators=300; total time=   0.6s\n",
      "[CV] END contamination=0.1, max_features=1.0, max_samples=auto, n_estimators=300; total time=   0.7s\n",
      "[CV] END contamination=0.1, max_features=1.0, max_samples=0.5, n_estimators=50; total time=   0.2s\n",
      "[CV] END contamination=0.1, max_features=1.0, max_samples=0.5, n_estimators=100; total time=   0.2s\n",
      "[CV] END contamination=0.1, max_features=1.0, max_samples=auto, n_estimators=300; total time=   0.6s\n",
      "[CV] END contamination=0.1, max_features=1.0, max_samples=0.5, n_estimators=100; total time=   0.2s\n",
      "[CV] END contamination=0.1, max_features=1.0, max_samples=0.5, n_estimators=100; total time=   0.2s\n",
      "[CV] END contamination=0.1, max_features=1.0, max_samples=auto, n_estimators=400; total time=   0.8s\n",
      "[CV] END contamination=0.1, max_features=1.0, max_samples=auto, n_estimators=400; total time=   0.8s\n",
      "[CV] END contamination=0.1, max_features=1.0, max_samples=auto, n_estimators=400; total time=   0.8s\n",
      "[CV] END contamination=0.1, max_features=1.0, max_samples=0.5, n_estimators=200; total time=   0.4s\n",
      "[CV] END contamination=0.1, max_features=1.0, max_samples=0.5, n_estimators=200; total time=   0.4s\n",
      "[CV] END contamination=0.1, max_features=1.0, max_samples=0.7, n_estimators=10; total time=   0.0s\n",
      "[CV] END contamination=0.1, max_features=1.0, max_samples=0.5, n_estimators=200; total time=   0.4s\n",
      "[CV] END contamination=0.1, max_features=1.0, max_samples=0.7, n_estimators=10; total time=   0.0s\n",
      "[CV] END contamination=0.1, max_features=1.0, max_samples=0.7, n_estimators=10; total time=   0.0s\n",
      "[CV] END contamination=0.1, max_features=1.0, max_samples=0.7, n_estimators=50; total time=   0.1s\n",
      "[CV] END contamination=0.1, max_features=1.0, max_samples=0.7, n_estimators=50; total time=   0.1s\n",
      "[CV] END contamination=0.1, max_features=1.0, max_samples=0.7, n_estimators=50; total time=   0.1s\n",
      "[CV] END contamination=0.1, max_features=1.0, max_samples=0.5, n_estimators=300; total time=   0.6s\n",
      "[CV] END contamination=0.1, max_features=1.0, max_samples=0.5, n_estimators=300; total time=   0.7s\n",
      "[CV] END contamination=0.1, max_features=1.0, max_samples=0.7, n_estimators=100; total time=   0.2s\n",
      "[CV] END contamination=0.1, max_features=1.0, max_samples=0.5, n_estimators=300; total time=   0.6s\n",
      "[CV] END contamination=0.1, max_features=1.0, max_samples=0.7, n_estimators=100; total time=   0.2s\n",
      "[CV] END contamination=0.1, max_features=1.0, max_samples=0.7, n_estimators=100; total time=   0.2s\n",
      "[CV] END contamination=0.1, max_features=1.0, max_samples=0.5, n_estimators=400; total time=   0.9s\n",
      "[CV] END contamination=0.1, max_features=1.0, max_samples=0.5, n_estimators=400; total time=   0.8s\n",
      "[CV] END contamination=0.1, max_features=1.0, max_samples=0.7, n_estimators=200; total time=   0.4s\n",
      "[CV] END contamination=0.1, max_features=1.0, max_samples=0.7, n_estimators=200; total time=   0.5s\n",
      "[CV] END contamination=0.1, max_features=1.0, max_samples=0.5, n_estimators=400; total time=   0.9s\n",
      "[CV] END contamination=0.1, max_features=1.0, max_samples=0.7, n_estimators=200; total time=   0.4s\n",
      "[CV] END contamination=0.1, max_features=0.5, max_samples=auto, n_estimators=10; total time=   0.0s\n",
      "[CV] END contamination=0.1, max_features=0.5, max_samples=auto, n_estimators=10; total time=   0.0s\n",
      "[CV] END contamination=0.1, max_features=0.5, max_samples=auto, n_estimators=10; total time=   0.0s\n",
      "[CV] END contamination=0.1, max_features=0.5, max_samples=auto, n_estimators=50; total time=   0.1s\n",
      "[CV] END contamination=0.1, max_features=0.5, max_samples=auto, n_estimators=50; total time=   0.1s\n",
      "[CV] END contamination=0.1, max_features=0.5, max_samples=auto, n_estimators=50; total time=   0.1s\n",
      "[CV] END contamination=0.1, max_features=1.0, max_samples=0.7, n_estimators=300; total time=   0.6s\n",
      "[CV] END contamination=0.1, max_features=1.0, max_samples=0.7, n_estimators=300; total time=   0.6s\n",
      "[CV] END contamination=0.1, max_features=0.5, max_samples=auto, n_estimators=100; total time=   0.2s\n",
      "[CV] END contamination=0.1, max_features=0.5, max_samples=auto, n_estimators=100; total time=   0.2s\n",
      "[CV] END contamination=0.1, max_features=0.5, max_samples=auto, n_estimators=100; total time=   0.2s\n",
      "[CV] END contamination=0.1, max_features=1.0, max_samples=0.7, n_estimators=300; total time=   0.7s\n",
      "[CV] END contamination=0.1, max_features=0.5, max_samples=auto, n_estimators=200; total time=   0.4s\n",
      "[CV] END contamination=0.1, max_features=1.0, max_samples=0.7, n_estimators=400; total time=   0.8s\n",
      "[CV] END contamination=0.1, max_features=0.5, max_samples=auto, n_estimators=200; total time=   0.4s\n",
      "[CV] END contamination=0.1, max_features=1.0, max_samples=0.7, n_estimators=400; total time=   0.9s\n",
      "[CV] END contamination=0.1, max_features=0.5, max_samples=auto, n_estimators=200; total time=   0.4s\n",
      "[CV] END contamination=0.1, max_features=0.5, max_samples=0.5, n_estimators=10; total time=   0.0s\n",
      "[CV] END contamination=0.1, max_features=0.5, max_samples=0.5, n_estimators=10; total time=   0.0s\n",
      "[CV] END contamination=0.1, max_features=1.0, max_samples=0.7, n_estimators=400; total time=   0.9s\n",
      "[CV] END contamination=0.1, max_features=0.5, max_samples=0.5, n_estimators=10; total time=   0.0s\n",
      "[CV] END contamination=0.1, max_features=0.5, max_samples=0.5, n_estimators=50; total time=   0.1s\n",
      "[CV] END contamination=0.1, max_features=0.5, max_samples=0.5, n_estimators=50; total time=   0.1s\n",
      "[CV] END contamination=0.1, max_features=0.5, max_samples=auto, n_estimators=300; total time=   0.6s\n",
      "[CV] END contamination=0.1, max_features=0.5, max_samples=auto, n_estimators=300; total time=   0.6s\n",
      "[CV] END contamination=0.1, max_features=0.5, max_samples=0.5, n_estimators=50; total time=   0.1s\n",
      "[CV] END contamination=0.1, max_features=0.5, max_samples=0.5, n_estimators=100; total time=   0.2s\n",
      "[CV] END contamination=0.1, max_features=0.5, max_samples=auto, n_estimators=300; total time=   0.5s\n",
      "[CV] END contamination=0.1, max_features=0.5, max_samples=0.5, n_estimators=100; total time=   0.2s\n",
      "[CV] END contamination=0.1, max_features=0.5, max_samples=0.5, n_estimators=100; total time=   0.2s\n",
      "[CV] END contamination=0.1, max_features=0.5, max_samples=auto, n_estimators=400; total time=   0.7s\n",
      "[CV] END contamination=0.1, max_features=0.5, max_samples=0.5, n_estimators=200; total time=   0.4s\n",
      "[CV] END contamination=0.1, max_features=0.5, max_samples=auto, n_estimators=400; total time=   0.8s\n",
      "[CV] END contamination=0.1, max_features=0.5, max_samples=0.5, n_estimators=200; total time=   0.4s\n",
      "[CV] END contamination=0.1, max_features=0.5, max_samples=auto, n_estimators=400; total time=   0.9s\n",
      "[CV] END contamination=0.1, max_features=0.5, max_samples=0.5, n_estimators=200; total time=   0.4s\n",
      "[CV] END contamination=0.1, max_features=0.5, max_samples=0.7, n_estimators=10; total time=   0.0s\n",
      "[CV] END contamination=0.1, max_features=0.5, max_samples=0.7, n_estimators=10; total time=   0.0s\n",
      "[CV] END contamination=0.1, max_features=0.5, max_samples=0.7, n_estimators=10; total time=   0.0s\n",
      "[CV] END contamination=0.1, max_features=0.5, max_samples=0.7, n_estimators=50; total time=   0.1s\n",
      "[CV] END contamination=0.1, max_features=0.5, max_samples=0.7, n_estimators=50; total time=   0.1s\n",
      "[CV] END contamination=0.1, max_features=0.5, max_samples=0.5, n_estimators=300; total time=   0.7s\n",
      "[CV] END contamination=0.1, max_features=0.5, max_samples=0.5, n_estimators=300; total time=   0.6s\n",
      "[CV] END contamination=0.1, max_features=0.5, max_samples=0.7, n_estimators=50; total time=   0.1s\n",
      "[CV] END contamination=0.1, max_features=0.5, max_samples=0.5, n_estimators=300; total time=   0.6s\n",
      "[CV] END contamination=0.1, max_features=0.5, max_samples=0.7, n_estimators=100; total time=   0.2s\n",
      "[CV] END contamination=0.1, max_features=0.5, max_samples=0.7, n_estimators=100; total time=   0.2s\n",
      "[CV] END contamination=0.1, max_features=0.5, max_samples=0.7, n_estimators=100; total time=   0.2s\n",
      "[CV] END contamination=0.1, max_features=0.5, max_samples=0.5, n_estimators=400; total time=   0.8s\n",
      "[CV] END contamination=0.1, max_features=0.5, max_samples=0.7, n_estimators=200; total time=   0.4s\n",
      "[CV] END contamination=0.1, max_features=0.5, max_samples=0.5, n_estimators=400; total time=   0.8s\n",
      "[CV] END contamination=0.1, max_features=0.5, max_samples=0.7, n_estimators=200; total time=   0.4s\n",
      "[CV] END contamination=0.1, max_features=0.5, max_samples=0.5, n_estimators=400; total time=   0.9s\n",
      "[CV] END contamination=0.1, max_features=0.5, max_samples=0.7, n_estimators=200; total time=   0.4s\n",
      "[CV] END contamination=0.25, max_features=1.0, max_samples=auto, n_estimators=10; total time=   0.0s\n",
      "[CV] END contamination=0.25, max_features=1.0, max_samples=auto, n_estimators=10; total time=   0.0s\n",
      "[CV] END contamination=0.25, max_features=1.0, max_samples=auto, n_estimators=10; total time=   0.0s\n",
      "[CV] END contamination=0.25, max_features=1.0, max_samples=auto, n_estimators=50; total time=   0.1s\n",
      "[CV] END contamination=0.25, max_features=1.0, max_samples=auto, n_estimators=50; total time=   0.1s\n",
      "[CV] END contamination=0.1, max_features=0.5, max_samples=0.7, n_estimators=300; total time=   0.6s\n",
      "[CV] END contamination=0.25, max_features=1.0, max_samples=auto, n_estimators=50; total time=   0.1s\n",
      "[CV] END contamination=0.1, max_features=0.5, max_samples=0.7, n_estimators=300; total time=   0.6s\n",
      "[CV] END contamination=0.25, max_features=1.0, max_samples=auto, n_estimators=100; total time=   0.2s\n",
      "[CV] END contamination=0.25, max_features=1.0, max_samples=auto, n_estimators=100; total time=   0.2s\n",
      "[CV] END contamination=0.1, max_features=0.5, max_samples=0.7, n_estimators=300; total time=   0.6s\n",
      "[CV] END contamination=0.25, max_features=1.0, max_samples=auto, n_estimators=100; total time=   0.2s\n",
      "[CV] END contamination=0.1, max_features=0.5, max_samples=0.7, n_estimators=400; total time=   0.8s\n",
      "[CV] END contamination=0.25, max_features=1.0, max_samples=auto, n_estimators=200; total time=   0.4s\n",
      "[CV] END contamination=0.1, max_features=0.5, max_samples=0.7, n_estimators=400; total time=   0.8s\n",
      "[CV] END contamination=0.1, max_features=0.5, max_samples=0.7, n_estimators=400; total time=   0.8s\n",
      "[CV] END contamination=0.25, max_features=1.0, max_samples=auto, n_estimators=200; total time=   0.4s\n",
      "[CV] END contamination=0.25, max_features=1.0, max_samples=auto, n_estimators=200; total time=   0.4s\n",
      "[CV] END contamination=0.25, max_features=1.0, max_samples=0.5, n_estimators=10; total time=   0.0s\n",
      "[CV] END contamination=0.25, max_features=1.0, max_samples=0.5, n_estimators=10; total time=   0.0s\n",
      "[CV] END contamination=0.25, max_features=1.0, max_samples=0.5, n_estimators=10; total time=   0.0s\n",
      "[CV] END contamination=0.25, max_features=1.0, max_samples=0.5, n_estimators=50; total time=   0.1s\n",
      "[CV] END contamination=0.25, max_features=1.0, max_samples=0.5, n_estimators=50; total time=   0.1s\n",
      "[CV] END contamination=0.25, max_features=1.0, max_samples=auto, n_estimators=300; total time=   0.6s\n",
      "[CV] END contamination=0.25, max_features=1.0, max_samples=auto, n_estimators=300; total time=   0.6s\n",
      "[CV] END contamination=0.25, max_features=1.0, max_samples=0.5, n_estimators=50; total time=   0.1s\n",
      "[CV] END contamination=0.25, max_features=1.0, max_samples=auto, n_estimators=300; total time=   0.6s\n",
      "[CV] END contamination=0.25, max_features=1.0, max_samples=0.5, n_estimators=100; total time=   0.2s\n",
      "[CV] END contamination=0.25, max_features=1.0, max_samples=0.5, n_estimators=100; total time=   0.2s\n",
      "[CV] END contamination=0.25, max_features=1.0, max_samples=0.5, n_estimators=100; total time=   0.2s\n",
      "[CV] END contamination=0.25, max_features=1.0, max_samples=auto, n_estimators=400; total time=   0.8s\n",
      "[CV] END contamination=0.25, max_features=1.0, max_samples=auto, n_estimators=400; total time=   0.8s\n",
      "[CV] END contamination=0.25, max_features=1.0, max_samples=0.5, n_estimators=200; total time=   0.4s\n",
      "[CV] END contamination=0.25, max_features=1.0, max_samples=auto, n_estimators=400; total time=   0.8s\n",
      "[CV] END contamination=0.25, max_features=1.0, max_samples=0.5, n_estimators=200; total time=   0.4s\n",
      "[CV] END contamination=0.25, max_features=1.0, max_samples=0.5, n_estimators=200; total time=   0.4s\n",
      "[CV] END contamination=0.25, max_features=1.0, max_samples=0.7, n_estimators=10; total time=   0.0s\n",
      "[CV] END contamination=0.25, max_features=1.0, max_samples=0.7, n_estimators=10; total time=   0.0s\n",
      "[CV] END contamination=0.25, max_features=1.0, max_samples=0.7, n_estimators=10; total time=   0.0s\n",
      "[CV] END contamination=0.25, max_features=1.0, max_samples=0.7, n_estimators=50; total time=   0.1s\n",
      "[CV] END contamination=0.25, max_features=1.0, max_samples=0.7, n_estimators=50; total time=   0.1s\n",
      "[CV] END contamination=0.25, max_features=1.0, max_samples=0.5, n_estimators=300; total time=   0.7s\n",
      "[CV] END contamination=0.25, max_features=1.0, max_samples=0.5, n_estimators=300; total time=   0.6s\n",
      "[CV] END contamination=0.25, max_features=1.0, max_samples=0.7, n_estimators=50; total time=   0.1s\n",
      "[CV] END contamination=0.25, max_features=1.0, max_samples=0.7, n_estimators=100; total time=   0.2s\n",
      "[CV] END contamination=0.25, max_features=1.0, max_samples=0.5, n_estimators=300; total time=   0.7s\n",
      "[CV] END contamination=0.25, max_features=1.0, max_samples=0.7, n_estimators=100; total time=   0.2s\n",
      "[CV] END contamination=0.25, max_features=1.0, max_samples=0.7, n_estimators=100; total time=   0.2s\n",
      "[CV] END contamination=0.25, max_features=1.0, max_samples=0.5, n_estimators=400; total time=   0.8s\n",
      "[CV] END contamination=0.25, max_features=1.0, max_samples=0.5, n_estimators=400; total time=   0.9s\n",
      "[CV] END contamination=0.25, max_features=1.0, max_samples=0.7, n_estimators=200; total time=   0.5s\n",
      "[CV] END contamination=0.25, max_features=1.0, max_samples=0.5, n_estimators=400; total time=   0.9s\n",
      "[CV] END contamination=0.25, max_features=1.0, max_samples=0.7, n_estimators=200; total time=   0.4s\n",
      "[CV] END contamination=0.25, max_features=0.5, max_samples=auto, n_estimators=10; total time=   0.0s\n",
      "[CV] END contamination=0.25, max_features=0.5, max_samples=auto, n_estimators=10; total time=   0.0s\n",
      "[CV] END contamination=0.25, max_features=0.5, max_samples=auto, n_estimators=10; total time=   0.0s\n",
      "[CV] END contamination=0.25, max_features=1.0, max_samples=0.7, n_estimators=200; total time=   0.5s\n",
      "[CV] END contamination=0.25, max_features=0.5, max_samples=auto, n_estimators=50; total time=   0.1s\n",
      "[CV] END contamination=0.25, max_features=0.5, max_samples=auto, n_estimators=50; total time=   0.1s\n",
      "[CV] END contamination=0.25, max_features=0.5, max_samples=auto, n_estimators=50; total time=   0.1s\n",
      "[CV] END contamination=0.25, max_features=1.0, max_samples=0.7, n_estimators=300; total time=   0.7s\n",
      "[CV] END contamination=0.25, max_features=1.0, max_samples=0.7, n_estimators=300; total time=   0.7s\n",
      "[CV] END contamination=0.25, max_features=0.5, max_samples=auto, n_estimators=100; total time=   0.2s\n",
      "[CV] END contamination=0.25, max_features=0.5, max_samples=auto, n_estimators=100; total time=   0.2s\n",
      "[CV] END contamination=0.25, max_features=1.0, max_samples=0.7, n_estimators=300; total time=   0.6s\n",
      "[CV] END contamination=0.25, max_features=0.5, max_samples=auto, n_estimators=100; total time=   0.2s\n",
      "[CV] END contamination=0.25, max_features=0.5, max_samples=auto, n_estimators=200; total time=   0.4s\n",
      "[CV] END contamination=0.25, max_features=0.5, max_samples=auto, n_estimators=200; total time=   0.4s\n",
      "[CV] END contamination=0.25, max_features=1.0, max_samples=0.7, n_estimators=400; total time=   0.9s\n",
      "[CV] END contamination=0.25, max_features=0.5, max_samples=auto, n_estimators=200; total time=   0.4s\n",
      "[CV] END contamination=0.25, max_features=1.0, max_samples=0.7, n_estimators=400; total time=   1.0s\n",
      "[CV] END contamination=0.25, max_features=0.5, max_samples=0.5, n_estimators=10; total time=   0.1s\n",
      "[CV] END contamination=0.25, max_features=1.0, max_samples=0.7, n_estimators=400; total time=   1.0s\n",
      "[CV] END contamination=0.25, max_features=0.5, max_samples=0.5, n_estimators=10; total time=   0.0s\n",
      "[CV] END contamination=0.25, max_features=0.5, max_samples=0.5, n_estimators=10; total time=   0.0s\n",
      "[CV] END contamination=0.25, max_features=0.5, max_samples=auto, n_estimators=300; total time=   0.6s\n",
      "[CV] END contamination=0.25, max_features=0.5, max_samples=auto, n_estimators=300; total time=   0.6s\n",
      "[CV] END contamination=0.25, max_features=0.5, max_samples=0.5, n_estimators=50; total time=   0.1s\n",
      "[CV] END contamination=0.25, max_features=0.5, max_samples=0.5, n_estimators=50; total time=   0.1s\n",
      "[CV] END contamination=0.25, max_features=0.5, max_samples=0.5, n_estimators=50; total time=   0.1s\n",
      "[CV] END contamination=0.25, max_features=0.5, max_samples=0.5, n_estimators=100; total time=   0.2s\n",
      "[CV] END contamination=0.25, max_features=0.5, max_samples=0.5, n_estimators=100; total time=   0.2s\n",
      "[CV] END contamination=0.25, max_features=0.5, max_samples=auto, n_estimators=300; total time=   0.6s\n",
      "[CV] END contamination=0.25, max_features=0.5, max_samples=0.5, n_estimators=100; total time=   0.2s\n",
      "[CV] END contamination=0.25, max_features=0.5, max_samples=auto, n_estimators=400; total time=   0.8s\n",
      "[CV] END contamination=0.25, max_features=0.5, max_samples=auto, n_estimators=400; total time=   0.8s\n",
      "[CV] END contamination=0.25, max_features=0.5, max_samples=auto, n_estimators=400; total time=   0.7s\n",
      "[CV] END contamination=0.25, max_features=0.5, max_samples=0.5, n_estimators=200; total time=   0.4s\n",
      "[CV] END contamination=0.25, max_features=0.5, max_samples=0.5, n_estimators=200; total time=   0.4s\n",
      "[CV] END contamination=0.25, max_features=0.5, max_samples=0.7, n_estimators=10; total time=   0.0s\n",
      "[CV] END contamination=0.25, max_features=0.5, max_samples=0.7, n_estimators=10; total time=   0.0s\n",
      "[CV] END contamination=0.25, max_features=0.5, max_samples=0.5, n_estimators=200; total time=   0.5s\n",
      "[CV] END contamination=0.25, max_features=0.5, max_samples=0.7, n_estimators=10; total time=   0.0s\n",
      "[CV] END contamination=0.25, max_features=0.5, max_samples=0.7, n_estimators=50; total time=   0.1s\n",
      "[CV] END contamination=0.25, max_features=0.5, max_samples=0.7, n_estimators=50; total time=   0.2s\n",
      "[CV] END contamination=0.25, max_features=0.5, max_samples=0.5, n_estimators=300; total time=   0.7s\n",
      "[CV] END contamination=0.25, max_features=0.5, max_samples=0.7, n_estimators=50; total time=   0.1s\n",
      "[CV] END contamination=0.25, max_features=0.5, max_samples=0.5, n_estimators=300; total time=   0.7s\n",
      "[CV] END contamination=0.25, max_features=0.5, max_samples=0.5, n_estimators=300; total time=   0.6s\n",
      "[CV] END contamination=0.25, max_features=0.5, max_samples=0.7, n_estimators=100; total time=   0.2s\n",
      "[CV] END contamination=0.25, max_features=0.5, max_samples=0.7, n_estimators=100; total time=   0.3s\n",
      "[CV] END contamination=0.25, max_features=0.5, max_samples=0.7, n_estimators=100; total time=   0.2s\n",
      "[CV] END contamination=0.25, max_features=0.5, max_samples=0.5, n_estimators=400; total time=   0.8s\n",
      "[CV] END contamination=0.25, max_features=0.5, max_samples=0.5, n_estimators=400; total time=   0.8s\n",
      "[CV] END contamination=0.25, max_features=0.5, max_samples=0.5, n_estimators=400; total time=   0.9s\n",
      "[CV] END contamination=0.25, max_features=0.5, max_samples=0.7, n_estimators=200; total time=   0.4s\n",
      "[CV] END contamination=0.25, max_features=0.5, max_samples=0.7, n_estimators=200; total time=   0.5s\n",
      "[CV] END contamination=0.5, max_features=1.0, max_samples=auto, n_estimators=10; total time=   0.0s\n",
      "[CV] END contamination=0.5, max_features=1.0, max_samples=auto, n_estimators=10; total time=   0.0s\n",
      "[CV] END contamination=0.25, max_features=0.5, max_samples=0.7, n_estimators=200; total time=   0.4s\n",
      "[CV] END contamination=0.5, max_features=1.0, max_samples=auto, n_estimators=10; total time=   0.0s\n",
      "[CV] END contamination=0.5, max_features=1.0, max_samples=auto, n_estimators=50; total time=   0.1s\n",
      "[CV] END contamination=0.5, max_features=1.0, max_samples=auto, n_estimators=50; total time=   0.1s\n",
      "[CV] END contamination=0.25, max_features=0.5, max_samples=0.7, n_estimators=300; total time=   0.6s\n",
      "[CV] END contamination=0.25, max_features=0.5, max_samples=0.7, n_estimators=300; total time=   0.6s\n",
      "[CV] END contamination=0.5, max_features=1.0, max_samples=auto, n_estimators=50; total time=   0.1s\n",
      "[CV] END contamination=0.5, max_features=1.0, max_samples=auto, n_estimators=100; total time=   0.2s\n",
      "[CV] END contamination=0.5, max_features=1.0, max_samples=auto, n_estimators=100; total time=   0.2s\n",
      "[CV] END contamination=0.25, max_features=0.5, max_samples=0.7, n_estimators=300; total time=   0.8s\n",
      "[CV] END contamination=0.5, max_features=1.0, max_samples=auto, n_estimators=100; total time=   0.2s\n",
      "[CV] END contamination=0.25, max_features=0.5, max_samples=0.7, n_estimators=400; total time=   0.8s\n",
      "[CV] END contamination=0.5, max_features=1.0, max_samples=auto, n_estimators=200; total time=   0.4s\n",
      "[CV] END contamination=0.25, max_features=0.5, max_samples=0.7, n_estimators=400; total time=   0.8s\n",
      "[CV] END contamination=0.25, max_features=0.5, max_samples=0.7, n_estimators=400; total time=   0.9s\n",
      "[CV] END contamination=0.5, max_features=1.0, max_samples=auto, n_estimators=200; total time=   0.4s\n",
      "[CV] END contamination=0.5, max_features=1.0, max_samples=0.5, n_estimators=10; total time=   0.0s\n",
      "[CV] END contamination=0.5, max_features=1.0, max_samples=auto, n_estimators=200; total time=   0.5s\n",
      "[CV] END contamination=0.5, max_features=1.0, max_samples=0.5, n_estimators=10; total time=   0.0s\n",
      "[CV] END contamination=0.5, max_features=1.0, max_samples=0.5, n_estimators=10; total time=   0.0s\n",
      "[CV] END contamination=0.5, max_features=1.0, max_samples=0.5, n_estimators=50; total time=   0.1s\n",
      "[CV] END contamination=0.5, max_features=1.0, max_samples=auto, n_estimators=300; total time=   0.6s\n",
      "[CV] END contamination=0.5, max_features=1.0, max_samples=0.5, n_estimators=50; total time=   0.1s\n",
      "[CV] END contamination=0.5, max_features=1.0, max_samples=auto, n_estimators=300; total time=   0.6s\n",
      "[CV] END contamination=0.5, max_features=1.0, max_samples=0.5, n_estimators=50; total time=   0.1s\n",
      "[CV] END contamination=0.5, max_features=1.0, max_samples=auto, n_estimators=300; total time=   0.7s\n",
      "[CV] END contamination=0.5, max_features=1.0, max_samples=0.5, n_estimators=100; total time=   0.2s\n",
      "[CV] END contamination=0.5, max_features=1.0, max_samples=0.5, n_estimators=100; total time=   0.2s\n",
      "[CV] END contamination=0.5, max_features=1.0, max_samples=0.5, n_estimators=100; total time=   0.2s\n",
      "[CV] END contamination=0.5, max_features=1.0, max_samples=auto, n_estimators=400; total time=   0.7s\n",
      "[CV] END contamination=0.5, max_features=1.0, max_samples=auto, n_estimators=400; total time=   0.8s\n",
      "[CV] END contamination=0.5, max_features=1.0, max_samples=0.5, n_estimators=200; total time=   0.4s\n",
      "[CV] END contamination=0.5, max_features=1.0, max_samples=auto, n_estimators=400; total time=   0.8s\n",
      "[CV] END contamination=0.5, max_features=1.0, max_samples=0.5, n_estimators=200; total time=   0.4s\n",
      "[CV] END contamination=0.5, max_features=1.0, max_samples=0.7, n_estimators=10; total time=   0.0s\n",
      "[CV] END contamination=0.5, max_features=1.0, max_samples=0.7, n_estimators=10; total time=   0.0s\n",
      "[CV] END contamination=0.5, max_features=1.0, max_samples=0.5, n_estimators=200; total time=   0.4s\n",
      "[CV] END contamination=0.5, max_features=1.0, max_samples=0.7, n_estimators=10; total time=   0.0s\n",
      "[CV] END contamination=0.5, max_features=1.0, max_samples=0.7, n_estimators=50; total time=   0.1s\n",
      "[CV] END contamination=0.5, max_features=1.0, max_samples=0.7, n_estimators=50; total time=   0.1s\n",
      "[CV] END contamination=0.5, max_features=1.0, max_samples=0.5, n_estimators=300; total time=   0.6s\n",
      "[CV] END contamination=0.5, max_features=1.0, max_samples=0.7, n_estimators=50; total time=   0.1s\n",
      "[CV] END contamination=0.5, max_features=1.0, max_samples=0.7, n_estimators=100; total time=   0.2s\n",
      "[CV] END contamination=0.5, max_features=1.0, max_samples=0.5, n_estimators=300; total time=   0.6s\n",
      "[CV] END contamination=0.5, max_features=1.0, max_samples=0.7, n_estimators=100; total time=   0.2s\n",
      "[CV] END contamination=0.5, max_features=1.0, max_samples=0.5, n_estimators=300; total time=   0.8s\n",
      "[CV] END contamination=0.5, max_features=1.0, max_samples=0.7, n_estimators=100; total time=   0.2s\n",
      "[CV] END contamination=0.5, max_features=1.0, max_samples=0.5, n_estimators=400; total time=   0.8s\n",
      "[CV] END contamination=0.5, max_features=1.0, max_samples=0.5, n_estimators=400; total time=   0.9s\n",
      "[CV] END contamination=0.5, max_features=1.0, max_samples=0.7, n_estimators=200; total time=   0.4s\n",
      "[CV] END contamination=0.5, max_features=1.0, max_samples=0.5, n_estimators=400; total time=   0.9s\n",
      "[CV] END contamination=0.5, max_features=1.0, max_samples=0.7, n_estimators=200; total time=   0.4s\n",
      "[CV] END contamination=0.5, max_features=1.0, max_samples=0.7, n_estimators=200; total time=   0.4s\n",
      "[CV] END contamination=0.5, max_features=0.5, max_samples=auto, n_estimators=10; total time=   0.0s\n",
      "[CV] END contamination=0.5, max_features=0.5, max_samples=auto, n_estimators=10; total time=   0.0s\n",
      "[CV] END contamination=0.5, max_features=0.5, max_samples=auto, n_estimators=10; total time=   0.0s\n",
      "[CV] END contamination=0.5, max_features=0.5, max_samples=auto, n_estimators=50; total time=   0.1s\n",
      "[CV] END contamination=0.5, max_features=0.5, max_samples=auto, n_estimators=50; total time=   0.1s\n",
      "[CV] END contamination=0.5, max_features=0.5, max_samples=auto, n_estimators=50; total time=   0.1s\n",
      "[CV] END contamination=0.5, max_features=1.0, max_samples=0.7, n_estimators=300; total time=   0.7s\n",
      "[CV] END contamination=0.5, max_features=1.0, max_samples=0.7, n_estimators=300; total time=   0.7s\n",
      "[CV] END contamination=0.5, max_features=0.5, max_samples=auto, n_estimators=100; total time=   0.2s\n",
      "[CV] END contamination=0.5, max_features=0.5, max_samples=auto, n_estimators=100; total time=   0.2s\n",
      "[CV] END contamination=0.5, max_features=1.0, max_samples=0.7, n_estimators=300; total time=   0.6s\n",
      "[CV] END contamination=0.5, max_features=0.5, max_samples=auto, n_estimators=100; total time=   0.2s\n",
      "[CV] END contamination=0.5, max_features=0.5, max_samples=auto, n_estimators=200; total time=   0.4s\n",
      "[CV] END contamination=0.5, max_features=0.5, max_samples=auto, n_estimators=200; total time=   0.4s\n",
      "[CV] END contamination=0.5, max_features=1.0, max_samples=0.7, n_estimators=400; total time=   0.9s\n",
      "[CV] END contamination=0.5, max_features=1.0, max_samples=0.7, n_estimators=400; total time=   0.9s\n",
      "[CV] END contamination=0.5, max_features=1.0, max_samples=0.7, n_estimators=400; total time=   0.9s\n",
      "[CV] END contamination=0.5, max_features=0.5, max_samples=auto, n_estimators=200; total time=   0.5s\n",
      "[CV] END contamination=0.5, max_features=0.5, max_samples=0.5, n_estimators=10; total time=   0.0s\n",
      "[CV] END contamination=0.5, max_features=0.5, max_samples=0.5, n_estimators=10; total time=   0.0s\n",
      "[CV] END contamination=0.5, max_features=0.5, max_samples=0.5, n_estimators=10; total time=   0.0s\n",
      "[CV] END contamination=0.5, max_features=0.5, max_samples=auto, n_estimators=300; total time=   0.5s\n",
      "[CV] END contamination=0.5, max_features=0.5, max_samples=0.5, n_estimators=50; total time=   0.1s\n",
      "[CV] END contamination=0.5, max_features=0.5, max_samples=0.5, n_estimators=50; total time=   0.1s\n",
      "[CV] END contamination=0.5, max_features=0.5, max_samples=auto, n_estimators=300; total time=   0.6s\n",
      "[CV] END contamination=0.5, max_features=0.5, max_samples=0.5, n_estimators=50; total time=   0.1s\n",
      "[CV] END contamination=0.5, max_features=0.5, max_samples=0.5, n_estimators=100; total time=   0.2s\n",
      "[CV] END contamination=0.5, max_features=0.5, max_samples=0.5, n_estimators=100; total time=   0.2s\n",
      "[CV] END contamination=0.5, max_features=0.5, max_samples=auto, n_estimators=300; total time=   0.5s\n",
      "[CV] END contamination=0.5, max_features=0.5, max_samples=0.5, n_estimators=100; total time=   0.2s\n",
      "[CV] END contamination=0.5, max_features=0.5, max_samples=0.5, n_estimators=200; total time=   0.4s\n",
      "[CV] END contamination=0.5, max_features=0.5, max_samples=auto, n_estimators=400; total time=   0.8s\n",
      "[CV] END contamination=0.5, max_features=0.5, max_samples=auto, n_estimators=400; total time=   0.7s\n",
      "[CV] END contamination=0.5, max_features=0.5, max_samples=auto, n_estimators=400; total time=   0.8s\n",
      "[CV] END contamination=0.5, max_features=0.5, max_samples=0.5, n_estimators=200; total time=   0.4s\n",
      "[CV] END contamination=0.5, max_features=0.5, max_samples=0.7, n_estimators=10; total time=   0.0s\n",
      "[CV] END contamination=0.5, max_features=0.5, max_samples=0.5, n_estimators=200; total time=   0.4s\n",
      "[CV] END contamination=0.5, max_features=0.5, max_samples=0.7, n_estimators=10; total time=   0.0s\n",
      "[CV] END contamination=0.5, max_features=0.5, max_samples=0.7, n_estimators=10; total time=   0.0s\n",
      "[CV] END contamination=0.5, max_features=0.5, max_samples=0.7, n_estimators=50; total time=   0.1s\n",
      "[CV] END contamination=0.5, max_features=0.5, max_samples=0.7, n_estimators=50; total time=   0.1s\n",
      "[CV] END contamination=0.5, max_features=0.5, max_samples=0.5, n_estimators=300; total time=   0.6s\n",
      "[CV] END contamination=0.5, max_features=0.5, max_samples=0.7, n_estimators=50; total time=   0.1s\n",
      "[CV] END contamination=0.5, max_features=0.5, max_samples=0.5, n_estimators=300; total time=   0.7s\n",
      "[CV] END contamination=0.5, max_features=0.5, max_samples=0.7, n_estimators=100; total time=   0.2s\n",
      "[CV] END contamination=0.5, max_features=0.5, max_samples=0.7, n_estimators=100; total time=   0.2s\n",
      "[CV] END contamination=0.5, max_features=0.5, max_samples=0.5, n_estimators=300; total time=   0.6s\n",
      "[CV] END contamination=0.5, max_features=0.5, max_samples=0.7, n_estimators=100; total time=   0.2s\n",
      "[CV] END contamination=0.5, max_features=0.5, max_samples=0.5, n_estimators=400; total time=   0.8s\n",
      "[CV] END contamination=0.5, max_features=0.5, max_samples=0.7, n_estimators=200; total time=   0.4s\n",
      "[CV] END contamination=0.5, max_features=0.5, max_samples=0.5, n_estimators=400; total time=   0.8s\n",
      "[CV] END contamination=0.5, max_features=0.5, max_samples=0.7, n_estimators=200; total time=   0.4s\n",
      "[CV] END contamination=0.5, max_features=0.5, max_samples=0.7, n_estimators=200; total time=   0.4s\n",
      "[CV] END contamination=0.5, max_features=0.5, max_samples=0.5, n_estimators=400; total time=   0.9s\n",
      "[CV] END contamination=0.5, max_features=0.5, max_samples=0.7, n_estimators=300; total time=   0.5s\n",
      "[CV] END contamination=0.5, max_features=0.5, max_samples=0.7, n_estimators=300; total time=   0.6s\n",
      "[CV] END contamination=0.5, max_features=0.5, max_samples=0.7, n_estimators=300; total time=   0.5s\n",
      "[CV] END contamination=0.5, max_features=0.5, max_samples=0.7, n_estimators=400; total time=   0.5s\n",
      "[CV] END contamination=0.5, max_features=0.5, max_samples=0.7, n_estimators=400; total time=   0.5s\n",
      "[CV] END contamination=0.5, max_features=0.5, max_samples=0.7, n_estimators=400; total time=   0.6s\n"
     ]
    }
   ],
   "source": [
    "best_model, best_params = train(df_features_full, df_target_full)\n",
    "y_pred = best_model.predict(df_features_full)"
   ]
  },
  {
   "cell_type": "code",
   "execution_count": 165,
   "metadata": {},
   "outputs": [
    {
     "name": "stdout",
     "output_type": "stream",
     "text": [
      "Classification Report:\n",
      "              precision    recall  f1-score   support\n",
      "\n",
      "          -1       0.14      0.29      0.19       208\n",
      "           1       0.88      0.76      0.81      1456\n",
      "\n",
      "    accuracy                           0.70      1664\n",
      "   macro avg       0.51      0.52      0.50      1664\n",
      "weighted avg       0.79      0.70      0.74      1664\n",
      "\n",
      "Confusion Matrix:\n",
      "[[  60  148]\n",
      " [ 356 1100]]\n"
     ]
    }
   ],
   "source": [
    "evaluate(y_pred, df_target_full)"
   ]
  },
  {
   "cell_type": "code",
   "execution_count": 166,
   "metadata": {},
   "outputs": [
    {
     "data": {
      "text/plain": [
       "{'contamination': 0.25,\n",
       " 'max_features': 1.0,\n",
       " 'max_samples': 0.7,\n",
       " 'n_estimators': 10}"
      ]
     },
     "execution_count": 166,
     "metadata": {},
     "output_type": "execute_result"
    }
   ],
   "source": [
    "best_params"
   ]
  },
  {
   "cell_type": "code",
   "execution_count": 167,
   "metadata": {},
   "outputs": [
    {
     "data": {
      "image/png": "[encoded data removed]",
      "text/plain": [
       "<Figure size 640x480 with 1 Axes>"
      ]
     },
     "metadata": {},
     "output_type": "display_data"
    }
   ],
   "source": [
    "y_pred = best_model.decision_function(df_features_night)\n",
    "\n",
    "# Gerar o histograma\n",
    "plt.hist(y_pred, bins=30, alpha=0.7, color='blue', edgecolor='black')  # Ajuste bins conforme necessário\n",
    "\n",
    "# Configurar o gráfico\n",
    "plt.title(\"Distribuição das Predições do Modelo\")\n",
    "plt.xlabel(\"Pontuação de Decisão\")\n",
    "plt.ylabel(\"Frequência\")\n",
    "\n",
    "# Mostrar o gráfico\n",
    "plt.show()"
   ]
  },
  {
   "cell_type": "code",
   "execution_count": 168,
   "metadata": {},
   "outputs": [
    {
     "name": "stdout",
     "output_type": "stream",
     "text": [
      "Melhor limiar: -0.17999999999999972, Melhor métrica: 0.9323308270676691\n"
     ]
    },
    {
     "name": "stderr",
     "output_type": "stream",
     "text": [
      "/home/dev-nouvenn/projects/ds/project-c216/myenv/lib/python3.8/site-packages/sklearn/metrics/_classification.py:1471: UndefinedMetricWarning: Precision is ill-defined and being set to 0.0 due to no predicted samples. Use `zero_division` parameter to control this behavior.\n",
      "  _warn_prf(average, modifier, msg_start, len(result))\n",
      "/home/dev-nouvenn/projects/ds/project-c216/myenv/lib/python3.8/site-packages/sklearn/metrics/_classification.py:1471: UndefinedMetricWarning: Precision is ill-defined and being set to 0.0 due to no predicted samples. Use `zero_division` parameter to control this behavior.\n",
      "  _warn_prf(average, modifier, msg_start, len(result))\n",
      "/home/dev-nouvenn/projects/ds/project-c216/myenv/lib/python3.8/site-packages/sklearn/metrics/_classification.py:1471: UndefinedMetricWarning: Precision is ill-defined and being set to 0.0 due to no predicted samples. Use `zero_division` parameter to control this behavior.\n",
      "  _warn_prf(average, modifier, msg_start, len(result))\n",
      "/home/dev-nouvenn/projects/ds/project-c216/myenv/lib/python3.8/site-packages/sklearn/metrics/_classification.py:1471: UndefinedMetricWarning: Precision is ill-defined and being set to 0.0 due to no predicted samples. Use `zero_division` parameter to control this behavior.\n",
      "  _warn_prf(average, modifier, msg_start, len(result))\n",
      "/home/dev-nouvenn/projects/ds/project-c216/myenv/lib/python3.8/site-packages/sklearn/metrics/_classification.py:1471: UndefinedMetricWarning: Precision is ill-defined and being set to 0.0 due to no predicted samples. Use `zero_division` parameter to control this behavior.\n",
      "  _warn_prf(average, modifier, msg_start, len(result))\n",
      "/home/dev-nouvenn/projects/ds/project-c216/myenv/lib/python3.8/site-packages/sklearn/metrics/_classification.py:1471: UndefinedMetricWarning: Precision is ill-defined and being set to 0.0 due to no predicted samples. Use `zero_division` parameter to control this behavior.\n",
      "  _warn_prf(average, modifier, msg_start, len(result))\n",
      "/home/dev-nouvenn/projects/ds/project-c216/myenv/lib/python3.8/site-packages/sklearn/metrics/_classification.py:1471: UndefinedMetricWarning: Precision is ill-defined and being set to 0.0 due to no predicted samples. Use `zero_division` parameter to control this behavior.\n",
      "  _warn_prf(average, modifier, msg_start, len(result))\n",
      "/home/dev-nouvenn/projects/ds/project-c216/myenv/lib/python3.8/site-packages/sklearn/metrics/_classification.py:1471: UndefinedMetricWarning: Precision is ill-defined and being set to 0.0 due to no predicted samples. Use `zero_division` parameter to control this behavior.\n",
      "  _warn_prf(average, modifier, msg_start, len(result))\n",
      "/home/dev-nouvenn/projects/ds/project-c216/myenv/lib/python3.8/site-packages/sklearn/metrics/_classification.py:1471: UndefinedMetricWarning: Precision is ill-defined and being set to 0.0 due to no predicted samples. Use `zero_division` parameter to control this behavior.\n",
      "  _warn_prf(average, modifier, msg_start, len(result))\n",
      "/home/dev-nouvenn/projects/ds/project-c216/myenv/lib/python3.8/site-packages/sklearn/metrics/_classification.py:1471: UndefinedMetricWarning: Precision is ill-defined and being set to 0.0 due to no predicted samples. Use `zero_division` parameter to control this behavior.\n",
      "  _warn_prf(average, modifier, msg_start, len(result))\n",
      "/home/dev-nouvenn/projects/ds/project-c216/myenv/lib/python3.8/site-packages/sklearn/metrics/_classification.py:1471: UndefinedMetricWarning: Precision is ill-defined and being set to 0.0 due to no predicted samples. Use `zero_division` parameter to control this behavior.\n",
      "  _warn_prf(average, modifier, msg_start, len(result))\n",
      "/home/dev-nouvenn/projects/ds/project-c216/myenv/lib/python3.8/site-packages/sklearn/metrics/_classification.py:1471: UndefinedMetricWarning: Precision is ill-defined and being set to 0.0 due to no predicted samples. Use `zero_division` parameter to control this behavior.\n",
      "  _warn_prf(average, modifier, msg_start, len(result))\n",
      "/home/dev-nouvenn/projects/ds/project-c216/myenv/lib/python3.8/site-packages/sklearn/metrics/_classification.py:1471: UndefinedMetricWarning: Precision is ill-defined and being set to 0.0 due to no predicted samples. Use `zero_division` parameter to control this behavior.\n",
      "  _warn_prf(average, modifier, msg_start, len(result))\n",
      "/home/dev-nouvenn/projects/ds/project-c216/myenv/lib/python3.8/site-packages/sklearn/metrics/_classification.py:1471: UndefinedMetricWarning: Precision is ill-defined and being set to 0.0 due to no predicted samples. Use `zero_division` parameter to control this behavior.\n",
      "  _warn_prf(average, modifier, msg_start, len(result))\n",
      "/home/dev-nouvenn/projects/ds/project-c216/myenv/lib/python3.8/site-packages/sklearn/metrics/_classification.py:1471: UndefinedMetricWarning: Precision is ill-defined and being set to 0.0 due to no predicted samples. Use `zero_division` parameter to control this behavior.\n",
      "  _warn_prf(average, modifier, msg_start, len(result))\n",
      "/home/dev-nouvenn/projects/ds/project-c216/myenv/lib/python3.8/site-packages/sklearn/metrics/_classification.py:1471: UndefinedMetricWarning: Precision is ill-defined and being set to 0.0 due to no predicted samples. Use `zero_division` parameter to control this behavior.\n",
      "  _warn_prf(average, modifier, msg_start, len(result))\n",
      "/home/dev-nouvenn/projects/ds/project-c216/myenv/lib/python3.8/site-packages/sklearn/metrics/_classification.py:1471: UndefinedMetricWarning: Precision is ill-defined and being set to 0.0 due to no predicted samples. Use `zero_division` parameter to control this behavior.\n",
      "  _warn_prf(average, modifier, msg_start, len(result))\n",
      "/home/dev-nouvenn/projects/ds/project-c216/myenv/lib/python3.8/site-packages/sklearn/metrics/_classification.py:1471: UndefinedMetricWarning: Precision is ill-defined and being set to 0.0 due to no predicted samples. Use `zero_division` parameter to control this behavior.\n",
      "  _warn_prf(average, modifier, msg_start, len(result))\n",
      "/home/dev-nouvenn/projects/ds/project-c216/myenv/lib/python3.8/site-packages/sklearn/metrics/_classification.py:1471: UndefinedMetricWarning: Precision is ill-defined and being set to 0.0 due to no predicted samples. Use `zero_division` parameter to control this behavior.\n",
      "  _warn_prf(average, modifier, msg_start, len(result))\n",
      "/home/dev-nouvenn/projects/ds/project-c216/myenv/lib/python3.8/site-packages/sklearn/metrics/_classification.py:1471: UndefinedMetricWarning: Precision is ill-defined and being set to 0.0 due to no predicted samples. Use `zero_division` parameter to control this behavior.\n",
      "  _warn_prf(average, modifier, msg_start, len(result))\n",
      "/home/dev-nouvenn/projects/ds/project-c216/myenv/lib/python3.8/site-packages/sklearn/metrics/_classification.py:1471: UndefinedMetricWarning: Precision is ill-defined and being set to 0.0 due to no predicted samples. Use `zero_division` parameter to control this behavior.\n",
      "  _warn_prf(average, modifier, msg_start, len(result))\n",
      "/home/dev-nouvenn/projects/ds/project-c216/myenv/lib/python3.8/site-packages/sklearn/metrics/_classification.py:1471: UndefinedMetricWarning: Precision is ill-defined and being set to 0.0 due to no predicted samples. Use `zero_division` parameter to control this behavior.\n",
      "  _warn_prf(average, modifier, msg_start, len(result))\n",
      "/home/dev-nouvenn/projects/ds/project-c216/myenv/lib/python3.8/site-packages/sklearn/metrics/_classification.py:1471: UndefinedMetricWarning: Precision is ill-defined and being set to 0.0 due to no predicted samples. Use `zero_division` parameter to control this behavior.\n",
      "  _warn_prf(average, modifier, msg_start, len(result))\n",
      "/home/dev-nouvenn/projects/ds/project-c216/myenv/lib/python3.8/site-packages/sklearn/metrics/_classification.py:1471: UndefinedMetricWarning: Precision is ill-defined and being set to 0.0 due to no predicted samples. Use `zero_division` parameter to control this behavior.\n",
      "  _warn_prf(average, modifier, msg_start, len(result))\n",
      "/home/dev-nouvenn/projects/ds/project-c216/myenv/lib/python3.8/site-packages/sklearn/metrics/_classification.py:1471: UndefinedMetricWarning: Precision is ill-defined and being set to 0.0 due to no predicted samples. Use `zero_division` parameter to control this behavior.\n",
      "  _warn_prf(average, modifier, msg_start, len(result))\n",
      "/home/dev-nouvenn/projects/ds/project-c216/myenv/lib/python3.8/site-packages/sklearn/metrics/_classification.py:1471: UndefinedMetricWarning: Precision is ill-defined and being set to 0.0 due to no predicted samples. Use `zero_division` parameter to control this behavior.\n",
      "  _warn_prf(average, modifier, msg_start, len(result))\n",
      "/home/dev-nouvenn/projects/ds/project-c216/myenv/lib/python3.8/site-packages/sklearn/metrics/_classification.py:1471: UndefinedMetricWarning: Precision is ill-defined and being set to 0.0 due to no predicted samples. Use `zero_division` parameter to control this behavior.\n",
      "  _warn_prf(average, modifier, msg_start, len(result))\n",
      "/home/dev-nouvenn/projects/ds/project-c216/myenv/lib/python3.8/site-packages/sklearn/metrics/_classification.py:1471: UndefinedMetricWarning: Precision is ill-defined and being set to 0.0 due to no predicted samples. Use `zero_division` parameter to control this behavior.\n",
      "  _warn_prf(average, modifier, msg_start, len(result))\n",
      "/home/dev-nouvenn/projects/ds/project-c216/myenv/lib/python3.8/site-packages/sklearn/metrics/_classification.py:1471: UndefinedMetricWarning: Precision is ill-defined and being set to 0.0 due to no predicted samples. Use `zero_division` parameter to control this behavior.\n",
      "  _warn_prf(average, modifier, msg_start, len(result))\n",
      "/home/dev-nouvenn/projects/ds/project-c216/myenv/lib/python3.8/site-packages/sklearn/metrics/_classification.py:1471: UndefinedMetricWarning: Precision is ill-defined and being set to 0.0 due to no predicted samples. Use `zero_division` parameter to control this behavior.\n",
      "  _warn_prf(average, modifier, msg_start, len(result))\n",
      "/home/dev-nouvenn/projects/ds/project-c216/myenv/lib/python3.8/site-packages/sklearn/metrics/_classification.py:1471: UndefinedMetricWarning: Precision is ill-defined and being set to 0.0 due to no predicted samples. Use `zero_division` parameter to control this behavior.\n",
      "  _warn_prf(average, modifier, msg_start, len(result))\n",
      "/home/dev-nouvenn/projects/ds/project-c216/myenv/lib/python3.8/site-packages/sklearn/metrics/_classification.py:1471: UndefinedMetricWarning: Precision is ill-defined and being set to 0.0 due to no predicted samples. Use `zero_division` parameter to control this behavior.\n",
      "  _warn_prf(average, modifier, msg_start, len(result))\n",
      "/home/dev-nouvenn/projects/ds/project-c216/myenv/lib/python3.8/site-packages/sklearn/metrics/_classification.py:1471: UndefinedMetricWarning: Precision is ill-defined and being set to 0.0 due to no predicted samples. Use `zero_division` parameter to control this behavior.\n",
      "  _warn_prf(average, modifier, msg_start, len(result))\n",
      "/home/dev-nouvenn/projects/ds/project-c216/myenv/lib/python3.8/site-packages/sklearn/metrics/_classification.py:1471: UndefinedMetricWarning: Precision is ill-defined and being set to 0.0 due to no predicted samples. Use `zero_division` parameter to control this behavior.\n",
      "  _warn_prf(average, modifier, msg_start, len(result))\n",
      "/home/dev-nouvenn/projects/ds/project-c216/myenv/lib/python3.8/site-packages/sklearn/metrics/_classification.py:1471: UndefinedMetricWarning: Precision is ill-defined and being set to 0.0 due to no predicted samples. Use `zero_division` parameter to control this behavior.\n",
      "  _warn_prf(average, modifier, msg_start, len(result))\n"
     ]
    }
   ],
   "source": [
    "from sklearn.metrics import precision_score, recall_score, f1_score, accuracy_score\n",
    "\n",
    "# Definir o melhor limiar inicial e suas métricas associadas\n",
    "best_value = -0.3\n",
    "best_metric = 0\n",
    "\n",
    "# Métrica escolhida: maximizar o F1-Score (ou outra métrica relevante)\n",
    "for value in np.arange(-0.5, 0.5, 0.01):\n",
    "    # Ajustar previsões com base no limiar atual\n",
    "    y_pred_adjusted = np.where(y_pred >= value, 1, -1)\n",
    "    \n",
    "    # Calcular recall, precisão e F1-Score\n",
    "    precision = precision_score(df_target_night, y_pred_adjusted, pos_label=1)\n",
    "    recall = recall_score(df_target_night, y_pred_adjusted, pos_label=1)\n",
    "    f1 = f1_score(df_target_night, y_pred_adjusted, pos_label=1)\n",
    "    accuracy = accuracy_score(df_target_night, y_pred_adjusted)\n",
    "\n",
    "    # Escolher a métrica que você quer otimizar (aqui F1-Score)\n",
    "    metric_to_optimize = f1\n",
    "    \n",
    "    # Atualizar o melhor limiar se a métrica melhorar\n",
    "    if metric_to_optimize > best_metric:\n",
    "        best_metric = metric_to_optimize\n",
    "        best_value = value\n",
    "\n",
    "print(f\"Melhor limiar: {best_value}, Melhor métrica: {best_metric}\")"
   ]
  },
  {
   "cell_type": "code",
   "execution_count": 169,
   "metadata": {},
   "outputs": [
    {
     "data": {
      "text/plain": [
       " 1    852\n",
       "-1      4\n",
       "Name: count, dtype: int64"
      ]
     },
     "execution_count": 169,
     "metadata": {},
     "output_type": "execute_result"
    }
   ],
   "source": [
    "y_pred_best = np.where(y_pred >= best_value, 1, -1)\n",
    "\n",
    "pd.Series(y_pred_best).value_counts()"
   ]
  }
 ],
 "metadata": {
  "kernelspec": {
   "display_name": "myenv",
   "language": "python",
   "name": "python3"
  },
  "language_info": {
   "codemirror_mode": {
    "name": "ipython",
    "version": 3
   },
   "file_extension": ".py",
   "mimetype": "text/x-python",
   "name": "python",
   "nbconvert_exporter": "python",
   "pygments_lexer": "ipython3",
   "version": "3.8.10"
  }
 },
 "nbformat": 4,
 "nbformat_minor": 2
}
