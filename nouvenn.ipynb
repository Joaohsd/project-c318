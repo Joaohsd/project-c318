{
 "cells": [
  {
   "cell_type": "markdown",
   "metadata": {},
   "source": [
    "# Anomaly Detection for IoT Devices"
   ]
  },
  {
   "cell_type": "markdown",
   "metadata": {},
   "source": [
    "A brief for this project."
   ]
  },
  {
   "cell_type": "markdown",
   "metadata": {},
   "source": [
    "### Getting all dependencies for creating a virtual envionment"
   ]
  },
  {
   "cell_type": "code",
   "execution_count": 1236,
   "metadata": {},
   "outputs": [
    {
     "name": "stdout",
     "output_type": "stream",
     "text": [
      "Requirement already satisfied: virtualenv in ./myenv/lib/python3.10/site-packages (20.27.1)\n",
      "Requirement already satisfied: distlib<1,>=0.3.7 in ./myenv/lib/python3.10/site-packages (from virtualenv) (0.3.9)\n",
      "Requirement already satisfied: filelock<4,>=3.12.2 in ./myenv/lib/python3.10/site-packages (from virtualenv) (3.16.1)\n",
      "Requirement already satisfied: platformdirs<5,>=3.9.1 in ./myenv/lib/python3.10/site-packages (from virtualenv) (4.3.6)\n",
      "created virtual environment CPython3.10.12.final.0-64 in 117ms\n",
      "  creator CPython3Posix(dest=/home/joao/inatel/P10/C318/Project/myenv, clear=False, no_vcs_ignore=False, global=False)\n",
      "  seeder FromAppData(download=False, pip=bundle, setuptools=bundle, wheel=bundle, via=copy, app_data_dir=/home/joao/snap/code/174/.local/share/virtualenv)\n",
      "    added seed packages: asttokens==2.4.1, comm==0.2.2, contourpy==1.3.1, cycler==0.12.1, debugpy==1.8.8, decorator==5.1.1, distlib==0.3.9, exceptiongroup==1.2.2, executing==2.1.0, filelock==3.16.1, fonttools==4.55.0, imbalanced_learn==0.12.4, imblearn==0.0, ipykernel==6.29.5, ipython==8.29.0, jedi==0.19.2, joblib==1.4.2, jupyter_client==8.6.3, jupyter_core==5.7.2, kiwisolver==1.4.7, matplotlib==3.9.2, matplotlib_inline==0.1.7, nest_asyncio==1.6.0, numpy==2.1.3, packaging==24.2, pandas==2.2.3, parso==0.8.4, pexpect==4.9.0, pillow==11.0.0, pip==24.3.1, platformdirs==4.3.6, prompt_toolkit==3.0.48, psutil==6.1.0, ptyprocess==0.7.0, pure_eval==0.2.3, pygments==2.18.0, pyparsing==3.2.0, python_dateutil==2.9.0.post0, pytz==2024.2, pyzmq==26.2.0, scikit_learn==1.5.2, scipy==1.14.1, seaborn==0.13.2, setuptools==75.2.0, six==1.16.0, stack_data==0.6.3, threadpoolctl==3.5.0, tornado==6.4.1, traitlets==5.14.3, typing_extensions==4.12.2, tzdata==2024.2, virtualenv==20.27.1, wcwidth==0.2.13, wheel==0.44.0\n",
      "  activators BashActivator,CShellActivator,FishActivator,NushellActivator,PowerShellActivator,PythonActivator\n",
      "Requirement already satisfied: ipykernel in ./myenv/lib/python3.10/site-packages (6.29.5)\n",
      "Requirement already satisfied: comm>=0.1.1 in ./myenv/lib/python3.10/site-packages (from ipykernel) (0.2.2)\n",
      "Requirement already satisfied: debugpy>=1.6.5 in ./myenv/lib/python3.10/site-packages (from ipykernel) (1.8.8)\n",
      "Requirement already satisfied: ipython>=7.23.1 in ./myenv/lib/python3.10/site-packages (from ipykernel) (8.29.0)\n",
      "Requirement already satisfied: jupyter-client>=6.1.12 in ./myenv/lib/python3.10/site-packages (from ipykernel) (8.6.3)\n",
      "Requirement already satisfied: jupyter-core!=5.0.*,>=4.12 in ./myenv/lib/python3.10/site-packages (from ipykernel) (5.7.2)\n",
      "Requirement already satisfied: matplotlib-inline>=0.1 in ./myenv/lib/python3.10/site-packages (from ipykernel) (0.1.7)\n",
      "Requirement already satisfied: nest-asyncio in ./myenv/lib/python3.10/site-packages (from ipykernel) (1.6.0)\n",
      "Requirement already satisfied: packaging in ./myenv/lib/python3.10/site-packages (from ipykernel) (24.2)\n",
      "Requirement already satisfied: psutil in ./myenv/lib/python3.10/site-packages (from ipykernel) (6.1.0)\n",
      "Requirement already satisfied: pyzmq>=24 in ./myenv/lib/python3.10/site-packages (from ipykernel) (26.2.0)\n",
      "Requirement already satisfied: tornado>=6.1 in ./myenv/lib/python3.10/site-packages (from ipykernel) (6.4.1)\n",
      "Requirement already satisfied: traitlets>=5.4.0 in ./myenv/lib/python3.10/site-packages (from ipykernel) (5.14.3)\n",
      "Requirement already satisfied: decorator in ./myenv/lib/python3.10/site-packages (from ipython>=7.23.1->ipykernel) (5.1.1)\n",
      "Requirement already satisfied: jedi>=0.16 in ./myenv/lib/python3.10/site-packages (from ipython>=7.23.1->ipykernel) (0.19.2)\n",
      "Requirement already satisfied: prompt-toolkit<3.1.0,>=3.0.41 in ./myenv/lib/python3.10/site-packages (from ipython>=7.23.1->ipykernel) (3.0.48)\n",
      "Requirement already satisfied: pygments>=2.4.0 in ./myenv/lib/python3.10/site-packages (from ipython>=7.23.1->ipykernel) (2.18.0)\n",
      "Requirement already satisfied: stack-data in ./myenv/lib/python3.10/site-packages (from ipython>=7.23.1->ipykernel) (0.6.3)\n",
      "Requirement already satisfied: exceptiongroup in ./myenv/lib/python3.10/site-packages (from ipython>=7.23.1->ipykernel) (1.2.2)\n",
      "Requirement already satisfied: typing-extensions>=4.6 in ./myenv/lib/python3.10/site-packages (from ipython>=7.23.1->ipykernel) (4.12.2)\n",
      "Requirement already satisfied: pexpect>4.3 in ./myenv/lib/python3.10/site-packages (from ipython>=7.23.1->ipykernel) (4.9.0)\n",
      "Requirement already satisfied: python-dateutil>=2.8.2 in ./myenv/lib/python3.10/site-packages (from jupyter-client>=6.1.12->ipykernel) (2.9.0.post0)\n",
      "Requirement already satisfied: platformdirs>=2.5 in ./myenv/lib/python3.10/site-packages (from jupyter-core!=5.0.*,>=4.12->ipykernel) (4.3.6)\n",
      "Requirement already satisfied: parso<0.9.0,>=0.8.4 in ./myenv/lib/python3.10/site-packages (from jedi>=0.16->ipython>=7.23.1->ipykernel) (0.8.4)\n",
      "Requirement already satisfied: ptyprocess>=0.5 in ./myenv/lib/python3.10/site-packages (from pexpect>4.3->ipython>=7.23.1->ipykernel) (0.7.0)\n",
      "Requirement already satisfied: wcwidth in ./myenv/lib/python3.10/site-packages (from prompt-toolkit<3.1.0,>=3.0.41->ipython>=7.23.1->ipykernel) (0.2.13)\n",
      "Requirement already satisfied: six>=1.5 in ./myenv/lib/python3.10/site-packages (from python-dateutil>=2.8.2->jupyter-client>=6.1.12->ipykernel) (1.16.0)\n",
      "Requirement already satisfied: executing>=1.2.0 in ./myenv/lib/python3.10/site-packages (from stack-data->ipython>=7.23.1->ipykernel) (2.1.0)\n",
      "Requirement already satisfied: asttokens>=2.1.0 in ./myenv/lib/python3.10/site-packages (from stack-data->ipython>=7.23.1->ipykernel) (2.4.1)\n",
      "Requirement already satisfied: pure-eval in ./myenv/lib/python3.10/site-packages (from stack-data->ipython>=7.23.1->ipykernel) (0.2.3)\n",
      "Requirement already satisfied: numpy in ./myenv/lib/python3.10/site-packages (2.1.3)\n",
      "Requirement already satisfied: pandas in ./myenv/lib/python3.10/site-packages (2.2.3)\n",
      "Requirement already satisfied: scikit-learn in ./myenv/lib/python3.10/site-packages (1.5.2)\n",
      "Requirement already satisfied: matplotlib in ./myenv/lib/python3.10/site-packages (3.9.2)\n",
      "Requirement already satisfied: seaborn in ./myenv/lib/python3.10/site-packages (0.13.2)\n",
      "Requirement already satisfied: imblearn in ./myenv/lib/python3.10/site-packages (0.0)\n",
      "Requirement already satisfied: python-dateutil>=2.8.2 in ./myenv/lib/python3.10/site-packages (from pandas) (2.9.0.post0)\n",
      "Requirement already satisfied: pytz>=2020.1 in ./myenv/lib/python3.10/site-packages (from pandas) (2024.2)\n",
      "Requirement already satisfied: tzdata>=2022.7 in ./myenv/lib/python3.10/site-packages (from pandas) (2024.2)\n",
      "Requirement already satisfied: scipy>=1.6.0 in ./myenv/lib/python3.10/site-packages (from scikit-learn) (1.14.1)\n",
      "Requirement already satisfied: joblib>=1.2.0 in ./myenv/lib/python3.10/site-packages (from scikit-learn) (1.4.2)\n",
      "Requirement already satisfied: threadpoolctl>=3.1.0 in ./myenv/lib/python3.10/site-packages (from scikit-learn) (3.5.0)\n",
      "Requirement already satisfied: contourpy>=1.0.1 in ./myenv/lib/python3.10/site-packages (from matplotlib) (1.3.1)\n",
      "Requirement already satisfied: cycler>=0.10 in ./myenv/lib/python3.10/site-packages (from matplotlib) (0.12.1)\n",
      "Requirement already satisfied: fonttools>=4.22.0 in ./myenv/lib/python3.10/site-packages (from matplotlib) (4.55.0)\n",
      "Requirement already satisfied: kiwisolver>=1.3.1 in ./myenv/lib/python3.10/site-packages (from matplotlib) (1.4.7)\n",
      "Requirement already satisfied: packaging>=20.0 in ./myenv/lib/python3.10/site-packages (from matplotlib) (24.2)\n",
      "Requirement already satisfied: pillow>=8 in ./myenv/lib/python3.10/site-packages (from matplotlib) (11.0.0)\n",
      "Requirement already satisfied: pyparsing>=2.3.1 in ./myenv/lib/python3.10/site-packages (from matplotlib) (3.2.0)\n",
      "Requirement already satisfied: imbalanced-learn in ./myenv/lib/python3.10/site-packages (from imblearn) (0.12.4)\n",
      "Requirement already satisfied: six>=1.5 in ./myenv/lib/python3.10/site-packages (from python-dateutil>=2.8.2->pandas) (1.16.0)\n",
      "Installed kernelspec myenv in /home/joao/snap/code/174/.local/share/jupyter/kernels/myenv\n"
     ]
    }
   ],
   "source": [
    "%%bash\n",
    "set -e\n",
    "\n",
    "pip install virtualenv\n",
    "\n",
    "# Create virtual environment\n",
    "python3 -m virtualenv myenv\n",
    "source ./myenv/bin/activate\n",
    "./myenv/bin/pip install ipykernel\n",
    "./myenv/bin/pip install numpy pandas scikit-learn matplotlib seaborn imblearn\n",
    "./myenv/bin/pip freeze > requirements.txt\n",
    "python3 -m ipykernel install --user --name=myenv --display-name \"Python3 (myenv)\"\n"
   ]
  },
  {
   "cell_type": "code",
   "execution_count": 1237,
   "metadata": {},
   "outputs": [],
   "source": [
    "import numpy as np\n",
    "import pandas as pd\n",
    "from sklearn.model_selection import train_test_split\n",
    "from sklearn.ensemble import IsolationForest\n",
    "from sklearn.model_selection import GridSearchCV\n",
    "import matplotlib.pyplot as plt\n",
    "from datetime import datetime, timezone\n",
    "from sklearn.metrics import classification_report, confusion_matrix\n",
    "from sklearn.metrics import make_scorer\n",
    "from imblearn.over_sampling import SMOTE\n",
    "from sklearn.metrics import confusion_matrix\n",
    "import seaborn as sns\n",
    "import matplotlib.pyplot as plt"
   ]
  },
  {
   "cell_type": "code",
   "execution_count": 1238,
   "metadata": {},
   "outputs": [],
   "source": [
    "def convert_timestamp(ts):\n",
    "    # Convert timestamp to datetime\n",
    "    dt = datetime.fromtimestamp(ts, tz=timezone.utc)\n",
    "    # Format the datetime to the desired string format\n",
    "    formatted = dt.strftime('%Y-%m-%d %H:%M:%S.') + f\"{dt.microsecond // 1000:03d} {dt.strftime('%z')}\"\n",
    "    # Adjust timezone formatting to include the colon\n",
    "    formatted = formatted[:-2] + \":\" + formatted[-2:]\n",
    "    return formatted"
   ]
  },
  {
   "cell_type": "markdown",
   "metadata": {},
   "source": [
    "### Lendo o dataset"
   ]
  },
  {
   "cell_type": "code",
   "execution_count": 1239,
   "metadata": {},
   "outputs": [
    {
     "data": {
      "text/html": [
       "<div>\n",
       "<style scoped>\n",
       "    .dataframe tbody tr th:only-of-type {\n",
       "        vertical-align: middle;\n",
       "    }\n",
       "\n",
       "    .dataframe tbody tr th {\n",
       "        vertical-align: top;\n",
       "    }\n",
       "\n",
       "    .dataframe thead th {\n",
       "        text-align: right;\n",
       "    }\n",
       "</style>\n",
       "<table border=\"1\" class=\"dataframe\">\n",
       "  <thead>\n",
       "    <tr style=\"text-align: right;\">\n",
       "      <th></th>\n",
       "      <th>id</th>\n",
       "      <th>location</th>\n",
       "      <th>device</th>\n",
       "      <th>timestamp</th>\n",
       "      <th>state</th>\n",
       "      <th>dimmer</th>\n",
       "      <th>accActiveEnergy</th>\n",
       "      <th>accReactiveEnergy</th>\n",
       "      <th>uRms</th>\n",
       "      <th>iRms</th>\n",
       "      <th>activePotency</th>\n",
       "      <th>reactivePotency</th>\n",
       "      <th>potencyFactor</th>\n",
       "      <th>luminosityLux</th>\n",
       "      <th>temperature</th>\n",
       "    </tr>\n",
       "  </thead>\n",
       "  <tbody>\n",
       "    <tr>\n",
       "      <th>0</th>\n",
       "      <td>1</td>\n",
       "      <td>LOCATION 4</td>\n",
       "      <td>ANOMALO::0:zrhybacdev:cadjw3wmgc</td>\n",
       "      <td>1704751249000</td>\n",
       "      <td>0.0</td>\n",
       "      <td>100.0</td>\n",
       "      <td>17898466.0</td>\n",
       "      <td>4585384.0</td>\n",
       "      <td>22516.0</td>\n",
       "      <td>23.0</td>\n",
       "      <td>0.0</td>\n",
       "      <td>0.0</td>\n",
       "      <td>140.0</td>\n",
       "      <td>18300.0</td>\n",
       "      <td>35.0</td>\n",
       "    </tr>\n",
       "    <tr>\n",
       "      <th>1</th>\n",
       "      <td>2</td>\n",
       "      <td>LOCATION 4</td>\n",
       "      <td>ANOMALO::0:zrhybacdev:cadjw3wmgc</td>\n",
       "      <td>1704914640000</td>\n",
       "      <td>1.0</td>\n",
       "      <td>100.0</td>\n",
       "      <td>17907226.0</td>\n",
       "      <td>4586661.0</td>\n",
       "      <td>22442.0</td>\n",
       "      <td>649.0</td>\n",
       "      <td>145.0</td>\n",
       "      <td>-21.0</td>\n",
       "      <td>989.0</td>\n",
       "      <td>0.0</td>\n",
       "      <td>41.0</td>\n",
       "    </tr>\n",
       "    <tr>\n",
       "      <th>2</th>\n",
       "      <td>3</td>\n",
       "      <td>LOCATION 4</td>\n",
       "      <td>ANOMALO::0:zrhybacdev:cadjw3wmgc</td>\n",
       "      <td>1704918241000</td>\n",
       "      <td>1.0</td>\n",
       "      <td>100.0</td>\n",
       "      <td>17921644.0</td>\n",
       "      <td>4588813.0</td>\n",
       "      <td>22564.0</td>\n",
       "      <td>647.0</td>\n",
       "      <td>145.0</td>\n",
       "      <td>-21.0</td>\n",
       "      <td>989.0</td>\n",
       "      <td>0.0</td>\n",
       "      <td>40.0</td>\n",
       "    </tr>\n",
       "    <tr>\n",
       "      <th>3</th>\n",
       "      <td>4</td>\n",
       "      <td>LOCATION 4</td>\n",
       "      <td>ANOMALO::0:zrhybacdev:cadjw3wmgc</td>\n",
       "      <td>1704921842000</td>\n",
       "      <td>1.0</td>\n",
       "      <td>100.0</td>\n",
       "      <td>17936112.0</td>\n",
       "      <td>4591007.0</td>\n",
       "      <td>22564.0</td>\n",
       "      <td>648.0</td>\n",
       "      <td>145.0</td>\n",
       "      <td>-22.0</td>\n",
       "      <td>988.0</td>\n",
       "      <td>0.0</td>\n",
       "      <td>38.0</td>\n",
       "    </tr>\n",
       "    <tr>\n",
       "      <th>4</th>\n",
       "      <td>5</td>\n",
       "      <td>LOCATION 4</td>\n",
       "      <td>ANOMALO::0:zrhybacdev:cadjw3wmgc</td>\n",
       "      <td>1704925442000</td>\n",
       "      <td>1.0</td>\n",
       "      <td>100.0</td>\n",
       "      <td>17950563.0</td>\n",
       "      <td>4593223.0</td>\n",
       "      <td>22717.0</td>\n",
       "      <td>644.0</td>\n",
       "      <td>145.0</td>\n",
       "      <td>-22.0</td>\n",
       "      <td>988.0</td>\n",
       "      <td>0.0</td>\n",
       "      <td>39.0</td>\n",
       "    </tr>\n",
       "  </tbody>\n",
       "</table>\n",
       "</div>"
      ],
      "text/plain": [
       "   id    location                            device      timestamp  state  \\\n",
       "0   1  LOCATION 4  ANOMALO::0:zrhybacdev:cadjw3wmgc  1704751249000    0.0   \n",
       "1   2  LOCATION 4  ANOMALO::0:zrhybacdev:cadjw3wmgc  1704914640000    1.0   \n",
       "2   3  LOCATION 4  ANOMALO::0:zrhybacdev:cadjw3wmgc  1704918241000    1.0   \n",
       "3   4  LOCATION 4  ANOMALO::0:zrhybacdev:cadjw3wmgc  1704921842000    1.0   \n",
       "4   5  LOCATION 4  ANOMALO::0:zrhybacdev:cadjw3wmgc  1704925442000    1.0   \n",
       "\n",
       "   dimmer  accActiveEnergy  accReactiveEnergy     uRms   iRms  activePotency  \\\n",
       "0   100.0       17898466.0          4585384.0  22516.0   23.0            0.0   \n",
       "1   100.0       17907226.0          4586661.0  22442.0  649.0          145.0   \n",
       "2   100.0       17921644.0          4588813.0  22564.0  647.0          145.0   \n",
       "3   100.0       17936112.0          4591007.0  22564.0  648.0          145.0   \n",
       "4   100.0       17950563.0          4593223.0  22717.0  644.0          145.0   \n",
       "\n",
       "   reactivePotency  potencyFactor  luminosityLux  temperature  \n",
       "0              0.0          140.0        18300.0         35.0  \n",
       "1            -21.0          989.0            0.0         41.0  \n",
       "2            -21.0          989.0            0.0         40.0  \n",
       "3            -22.0          988.0            0.0         38.0  \n",
       "4            -22.0          988.0            0.0         39.0  "
      ]
     },
     "execution_count": 1239,
     "metadata": {},
     "output_type": "execute_result"
    }
   ],
   "source": [
    "df_feature = pd.read_csv('./dataset/dvc_anomalo.csv')\n",
    "df_feature.head()"
   ]
  },
  {
   "cell_type": "markdown",
   "metadata": {},
   "source": [
    "### Visualizando métricas das colunas "
   ]
  },
  {
   "cell_type": "code",
   "execution_count": 1240,
   "metadata": {},
   "outputs": [
    {
     "data": {
      "text/html": [
       "<div>\n",
       "<style scoped>\n",
       "    .dataframe tbody tr th:only-of-type {\n",
       "        vertical-align: middle;\n",
       "    }\n",
       "\n",
       "    .dataframe tbody tr th {\n",
       "        vertical-align: top;\n",
       "    }\n",
       "\n",
       "    .dataframe thead th {\n",
       "        text-align: right;\n",
       "    }\n",
       "</style>\n",
       "<table border=\"1\" class=\"dataframe\">\n",
       "  <thead>\n",
       "    <tr style=\"text-align: right;\">\n",
       "      <th></th>\n",
       "      <th>id</th>\n",
       "      <th>timestamp</th>\n",
       "      <th>state</th>\n",
       "      <th>dimmer</th>\n",
       "      <th>accActiveEnergy</th>\n",
       "      <th>accReactiveEnergy</th>\n",
       "      <th>uRms</th>\n",
       "      <th>iRms</th>\n",
       "      <th>activePotency</th>\n",
       "      <th>reactivePotency</th>\n",
       "      <th>potencyFactor</th>\n",
       "      <th>luminosityLux</th>\n",
       "      <th>temperature</th>\n",
       "    </tr>\n",
       "  </thead>\n",
       "  <tbody>\n",
       "    <tr>\n",
       "      <th>count</th>\n",
       "      <td>1666.00000</td>\n",
       "      <td>1.666000e+03</td>\n",
       "      <td>1665.000000</td>\n",
       "      <td>1665.0</td>\n",
       "      <td>1.665000e+03</td>\n",
       "      <td>1.665000e+03</td>\n",
       "      <td>1665.000000</td>\n",
       "      <td>1665.000000</td>\n",
       "      <td>1665.000000</td>\n",
       "      <td>1665.000000</td>\n",
       "      <td>1665.000000</td>\n",
       "      <td>1665.000000</td>\n",
       "      <td>1665.000000</td>\n",
       "    </tr>\n",
       "    <tr>\n",
       "      <th>mean</th>\n",
       "      <td>833.50000</td>\n",
       "      <td>1.714093e+12</td>\n",
       "      <td>0.514715</td>\n",
       "      <td>100.0</td>\n",
       "      <td>3.625280e+07</td>\n",
       "      <td>7.374461e+06</td>\n",
       "      <td>22688.137538</td>\n",
       "      <td>339.438438</td>\n",
       "      <td>74.552553</td>\n",
       "      <td>-11.097297</td>\n",
       "      <td>594.078679</td>\n",
       "      <td>138708.048048</td>\n",
       "      <td>39.056456</td>\n",
       "    </tr>\n",
       "    <tr>\n",
       "      <th>std</th>\n",
       "      <td>481.07709</td>\n",
       "      <td>3.493303e+09</td>\n",
       "      <td>0.499934</td>\n",
       "      <td>0.0</td>\n",
       "      <td>7.253462e+06</td>\n",
       "      <td>1.098369e+06</td>\n",
       "      <td>127.035242</td>\n",
       "      <td>313.319993</td>\n",
       "      <td>72.668627</td>\n",
       "      <td>10.815438</td>\n",
       "      <td>407.710763</td>\n",
       "      <td>206336.574622</td>\n",
       "      <td>7.544846</td>\n",
       "    </tr>\n",
       "    <tr>\n",
       "      <th>min</th>\n",
       "      <td>1.00000</td>\n",
       "      <td>1.704751e+12</td>\n",
       "      <td>0.000000</td>\n",
       "      <td>100.0</td>\n",
       "      <td>1.789847e+07</td>\n",
       "      <td>4.585384e+06</td>\n",
       "      <td>22178.000000</td>\n",
       "      <td>12.000000</td>\n",
       "      <td>0.000000</td>\n",
       "      <td>-23.000000</td>\n",
       "      <td>8.000000</td>\n",
       "      <td>0.000000</td>\n",
       "      <td>20.000000</td>\n",
       "    </tr>\n",
       "    <tr>\n",
       "      <th>25%</th>\n",
       "      <td>417.25000</td>\n",
       "      <td>1.711693e+12</td>\n",
       "      <td>0.000000</td>\n",
       "      <td>100.0</td>\n",
       "      <td>3.104675e+07</td>\n",
       "      <td>6.589300e+06</td>\n",
       "      <td>22608.000000</td>\n",
       "      <td>23.000000</td>\n",
       "      <td>0.000000</td>\n",
       "      <td>-22.000000</td>\n",
       "      <td>158.000000</td>\n",
       "      <td>0.000000</td>\n",
       "      <td>34.000000</td>\n",
       "    </tr>\n",
       "    <tr>\n",
       "      <th>50%</th>\n",
       "      <td>833.50000</td>\n",
       "      <td>1.716066e+12</td>\n",
       "      <td>1.000000</td>\n",
       "      <td>100.0</td>\n",
       "      <td>4.036568e+07</td>\n",
       "      <td>7.996753e+06</td>\n",
       "      <td>22695.000000</td>\n",
       "      <td>639.000000</td>\n",
       "      <td>144.000000</td>\n",
       "      <td>-21.000000</td>\n",
       "      <td>987.000000</td>\n",
       "      <td>9200.000000</td>\n",
       "      <td>38.000000</td>\n",
       "    </tr>\n",
       "    <tr>\n",
       "      <th>75%</th>\n",
       "      <td>1249.75000</td>\n",
       "      <td>1.716904e+12</td>\n",
       "      <td>1.000000</td>\n",
       "      <td>100.0</td>\n",
       "      <td>4.216844e+07</td>\n",
       "      <td>8.269609e+06</td>\n",
       "      <td>22783.000000</td>\n",
       "      <td>644.000000</td>\n",
       "      <td>145.000000</td>\n",
       "      <td>0.000000</td>\n",
       "      <td>988.000000</td>\n",
       "      <td>220100.000000</td>\n",
       "      <td>43.000000</td>\n",
       "    </tr>\n",
       "    <tr>\n",
       "      <th>max</th>\n",
       "      <td>1666.00000</td>\n",
       "      <td>1.717459e+12</td>\n",
       "      <td>1.000000</td>\n",
       "      <td>100.0</td>\n",
       "      <td>4.342594e+07</td>\n",
       "      <td>8.457941e+06</td>\n",
       "      <td>23008.000000</td>\n",
       "      <td>663.000000</td>\n",
       "      <td>147.000000</td>\n",
       "      <td>0.000000</td>\n",
       "      <td>994.000000</td>\n",
       "      <td>606100.000000</td>\n",
       "      <td>61.000000</td>\n",
       "    </tr>\n",
       "  </tbody>\n",
       "</table>\n",
       "</div>"
      ],
      "text/plain": [
       "               id     timestamp        state  dimmer  accActiveEnergy  \\\n",
       "count  1666.00000  1.666000e+03  1665.000000  1665.0     1.665000e+03   \n",
       "mean    833.50000  1.714093e+12     0.514715   100.0     3.625280e+07   \n",
       "std     481.07709  3.493303e+09     0.499934     0.0     7.253462e+06   \n",
       "min       1.00000  1.704751e+12     0.000000   100.0     1.789847e+07   \n",
       "25%     417.25000  1.711693e+12     0.000000   100.0     3.104675e+07   \n",
       "50%     833.50000  1.716066e+12     1.000000   100.0     4.036568e+07   \n",
       "75%    1249.75000  1.716904e+12     1.000000   100.0     4.216844e+07   \n",
       "max    1666.00000  1.717459e+12     1.000000   100.0     4.342594e+07   \n",
       "\n",
       "       accReactiveEnergy          uRms         iRms  activePotency  \\\n",
       "count       1.665000e+03   1665.000000  1665.000000    1665.000000   \n",
       "mean        7.374461e+06  22688.137538   339.438438      74.552553   \n",
       "std         1.098369e+06    127.035242   313.319993      72.668627   \n",
       "min         4.585384e+06  22178.000000    12.000000       0.000000   \n",
       "25%         6.589300e+06  22608.000000    23.000000       0.000000   \n",
       "50%         7.996753e+06  22695.000000   639.000000     144.000000   \n",
       "75%         8.269609e+06  22783.000000   644.000000     145.000000   \n",
       "max         8.457941e+06  23008.000000   663.000000     147.000000   \n",
       "\n",
       "       reactivePotency  potencyFactor  luminosityLux  temperature  \n",
       "count      1665.000000    1665.000000    1665.000000  1665.000000  \n",
       "mean        -11.097297     594.078679  138708.048048    39.056456  \n",
       "std          10.815438     407.710763  206336.574622     7.544846  \n",
       "min         -23.000000       8.000000       0.000000    20.000000  \n",
       "25%         -22.000000     158.000000       0.000000    34.000000  \n",
       "50%         -21.000000     987.000000    9200.000000    38.000000  \n",
       "75%           0.000000     988.000000  220100.000000    43.000000  \n",
       "max           0.000000     994.000000  606100.000000    61.000000  "
      ]
     },
     "execution_count": 1240,
     "metadata": {},
     "output_type": "execute_result"
    }
   ],
   "source": [
    "df_feature.describe()"
   ]
  },
  {
   "cell_type": "markdown",
   "metadata": {},
   "source": [
    "### Verificando colunas com exemplos nulos"
   ]
  },
  {
   "cell_type": "code",
   "execution_count": 1241,
   "metadata": {},
   "outputs": [
    {
     "name": "stdout",
     "output_type": "stream",
     "text": [
      "<class 'pandas.core.frame.DataFrame'>\n",
      "RangeIndex: 1666 entries, 0 to 1665\n",
      "Data columns (total 15 columns):\n",
      " #   Column             Non-Null Count  Dtype  \n",
      "---  ------             --------------  -----  \n",
      " 0   id                 1666 non-null   int64  \n",
      " 1   location           1666 non-null   object \n",
      " 2   device             1666 non-null   object \n",
      " 3   timestamp          1666 non-null   int64  \n",
      " 4   state              1665 non-null   float64\n",
      " 5   dimmer             1665 non-null   float64\n",
      " 6   accActiveEnergy    1665 non-null   float64\n",
      " 7   accReactiveEnergy  1665 non-null   float64\n",
      " 8   uRms               1665 non-null   float64\n",
      " 9   iRms               1665 non-null   float64\n",
      " 10  activePotency      1665 non-null   float64\n",
      " 11  reactivePotency    1665 non-null   float64\n",
      " 12  potencyFactor      1665 non-null   float64\n",
      " 13  luminosityLux      1665 non-null   float64\n",
      " 14  temperature        1665 non-null   float64\n",
      "dtypes: float64(11), int64(2), object(2)\n",
      "memory usage: 195.4+ KB\n"
     ]
    }
   ],
   "source": [
    "df_feature.info()"
   ]
  },
  {
   "cell_type": "markdown",
   "metadata": {},
   "source": [
    "### Limpando o Dataset"
   ]
  },
  {
   "cell_type": "code",
   "execution_count": 1242,
   "metadata": {},
   "outputs": [
    {
     "name": "stdout",
     "output_type": "stream",
     "text": [
      "<class 'pandas.core.frame.DataFrame'>\n",
      "Index: 1664 entries, 0 to 1665\n",
      "Data columns (total 15 columns):\n",
      " #   Column             Non-Null Count  Dtype  \n",
      "---  ------             --------------  -----  \n",
      " 0   id                 1664 non-null   int64  \n",
      " 1   location           1664 non-null   object \n",
      " 2   device             1664 non-null   object \n",
      " 3   timestamp          1664 non-null   int64  \n",
      " 4   state              1664 non-null   float64\n",
      " 5   dimmer             1664 non-null   float64\n",
      " 6   accActiveEnergy    1664 non-null   float64\n",
      " 7   accReactiveEnergy  1664 non-null   float64\n",
      " 8   uRms               1664 non-null   float64\n",
      " 9   iRms               1664 non-null   float64\n",
      " 10  activePotency      1664 non-null   float64\n",
      " 11  reactivePotency    1664 non-null   float64\n",
      " 12  potencyFactor      1664 non-null   float64\n",
      " 13  luminosityLux      1664 non-null   float64\n",
      " 14  temperature        1664 non-null   float64\n",
      "dtypes: float64(11), int64(2), object(2)\n",
      "memory usage: 208.0+ KB\n"
     ]
    }
   ],
   "source": [
    "df_feature_cleaned = df_feature.dropna()\n",
    "df_feature_cleaned.info()"
   ]
  },
  {
   "cell_type": "markdown",
   "metadata": {},
   "source": [
    "### Preprocessing"
   ]
  },
  {
   "cell_type": "code",
   "execution_count": 1243,
   "metadata": {},
   "outputs": [
    {
     "data": {
      "text/html": [
       "<div>\n",
       "<style scoped>\n",
       "    .dataframe tbody tr th:only-of-type {\n",
       "        vertical-align: middle;\n",
       "    }\n",
       "\n",
       "    .dataframe tbody tr th {\n",
       "        vertical-align: top;\n",
       "    }\n",
       "\n",
       "    .dataframe thead th {\n",
       "        text-align: right;\n",
       "    }\n",
       "</style>\n",
       "<table border=\"1\" class=\"dataframe\">\n",
       "  <thead>\n",
       "    <tr style=\"text-align: right;\">\n",
       "      <th></th>\n",
       "      <th>id</th>\n",
       "      <th>timestamp</th>\n",
       "      <th>state</th>\n",
       "      <th>dimmer</th>\n",
       "      <th>accActiveEnergy</th>\n",
       "      <th>accReactiveEnergy</th>\n",
       "      <th>uRms</th>\n",
       "      <th>iRms</th>\n",
       "      <th>activePotency</th>\n",
       "      <th>reactivePotency</th>\n",
       "      <th>potencyFactor</th>\n",
       "      <th>luminosityLux</th>\n",
       "      <th>temperature</th>\n",
       "    </tr>\n",
       "  </thead>\n",
       "  <tbody>\n",
       "    <tr>\n",
       "      <th>count</th>\n",
       "      <td>1664.000000</td>\n",
       "      <td>1.664000e+03</td>\n",
       "      <td>1664.000000</td>\n",
       "      <td>1664.0</td>\n",
       "      <td>1.664000e+03</td>\n",
       "      <td>1.664000e+03</td>\n",
       "      <td>1664.000000</td>\n",
       "      <td>1664.000000</td>\n",
       "      <td>1664.000000</td>\n",
       "      <td>1664.000000</td>\n",
       "      <td>1664.000000</td>\n",
       "      <td>1664.000000</td>\n",
       "      <td>1664.000000</td>\n",
       "    </tr>\n",
       "    <tr>\n",
       "      <th>mean</th>\n",
       "      <td>833.478365</td>\n",
       "      <td>1.714090e+12</td>\n",
       "      <td>0.514423</td>\n",
       "      <td>100.0</td>\n",
       "      <td>3.624998e+07</td>\n",
       "      <td>7.374034e+06</td>\n",
       "      <td>22688.121394</td>\n",
       "      <td>339.256010</td>\n",
       "      <td>74.510216</td>\n",
       "      <td>-11.090745</td>\n",
       "      <td>593.841346</td>\n",
       "      <td>138791.406250</td>\n",
       "      <td>39.056490</td>\n",
       "    </tr>\n",
       "    <tr>\n",
       "      <th>std</th>\n",
       "      <td>481.365880</td>\n",
       "      <td>3.494543e+09</td>\n",
       "      <td>0.499942</td>\n",
       "      <td>0.0</td>\n",
       "      <td>7.254727e+06</td>\n",
       "      <td>1.098561e+06</td>\n",
       "      <td>127.071723</td>\n",
       "      <td>313.325717</td>\n",
       "      <td>72.669930</td>\n",
       "      <td>10.815383</td>\n",
       "      <td>407.718264</td>\n",
       "      <td>206370.557152</td>\n",
       "      <td>7.547114</td>\n",
       "    </tr>\n",
       "    <tr>\n",
       "      <th>min</th>\n",
       "      <td>1.000000</td>\n",
       "      <td>1.704751e+12</td>\n",
       "      <td>0.000000</td>\n",
       "      <td>100.0</td>\n",
       "      <td>1.789847e+07</td>\n",
       "      <td>4.585384e+06</td>\n",
       "      <td>22178.000000</td>\n",
       "      <td>12.000000</td>\n",
       "      <td>0.000000</td>\n",
       "      <td>-23.000000</td>\n",
       "      <td>8.000000</td>\n",
       "      <td>0.000000</td>\n",
       "      <td>20.000000</td>\n",
       "    </tr>\n",
       "    <tr>\n",
       "      <th>25%</th>\n",
       "      <td>416.750000</td>\n",
       "      <td>1.711692e+12</td>\n",
       "      <td>0.000000</td>\n",
       "      <td>100.0</td>\n",
       "      <td>3.104314e+07</td>\n",
       "      <td>6.588738e+06</td>\n",
       "      <td>22608.000000</td>\n",
       "      <td>23.000000</td>\n",
       "      <td>0.000000</td>\n",
       "      <td>-22.000000</td>\n",
       "      <td>157.750000</td>\n",
       "      <td>0.000000</td>\n",
       "      <td>34.000000</td>\n",
       "    </tr>\n",
       "    <tr>\n",
       "      <th>50%</th>\n",
       "      <td>832.500000</td>\n",
       "      <td>1.716062e+12</td>\n",
       "      <td>1.000000</td>\n",
       "      <td>100.0</td>\n",
       "      <td>4.035845e+07</td>\n",
       "      <td>7.995666e+06</td>\n",
       "      <td>22695.000000</td>\n",
       "      <td>639.000000</td>\n",
       "      <td>144.000000</td>\n",
       "      <td>-21.000000</td>\n",
       "      <td>987.000000</td>\n",
       "      <td>9200.000000</td>\n",
       "      <td>38.000000</td>\n",
       "    </tr>\n",
       "    <tr>\n",
       "      <th>75%</th>\n",
       "      <td>1250.250000</td>\n",
       "      <td>1.716904e+12</td>\n",
       "      <td>1.000000</td>\n",
       "      <td>100.0</td>\n",
       "      <td>4.216844e+07</td>\n",
       "      <td>8.269609e+06</td>\n",
       "      <td>22783.000000</td>\n",
       "      <td>644.000000</td>\n",
       "      <td>145.000000</td>\n",
       "      <td>0.000000</td>\n",
       "      <td>988.000000</td>\n",
       "      <td>220150.000000</td>\n",
       "      <td>43.000000</td>\n",
       "    </tr>\n",
       "    <tr>\n",
       "      <th>max</th>\n",
       "      <td>1666.000000</td>\n",
       "      <td>1.717459e+12</td>\n",
       "      <td>1.000000</td>\n",
       "      <td>100.0</td>\n",
       "      <td>4.342594e+07</td>\n",
       "      <td>8.457941e+06</td>\n",
       "      <td>23008.000000</td>\n",
       "      <td>663.000000</td>\n",
       "      <td>147.000000</td>\n",
       "      <td>0.000000</td>\n",
       "      <td>994.000000</td>\n",
       "      <td>606100.000000</td>\n",
       "      <td>61.000000</td>\n",
       "    </tr>\n",
       "  </tbody>\n",
       "</table>\n",
       "</div>"
      ],
      "text/plain": [
       "                id     timestamp        state  dimmer  accActiveEnergy  \\\n",
       "count  1664.000000  1.664000e+03  1664.000000  1664.0     1.664000e+03   \n",
       "mean    833.478365  1.714090e+12     0.514423   100.0     3.624998e+07   \n",
       "std     481.365880  3.494543e+09     0.499942     0.0     7.254727e+06   \n",
       "min       1.000000  1.704751e+12     0.000000   100.0     1.789847e+07   \n",
       "25%     416.750000  1.711692e+12     0.000000   100.0     3.104314e+07   \n",
       "50%     832.500000  1.716062e+12     1.000000   100.0     4.035845e+07   \n",
       "75%    1250.250000  1.716904e+12     1.000000   100.0     4.216844e+07   \n",
       "max    1666.000000  1.717459e+12     1.000000   100.0     4.342594e+07   \n",
       "\n",
       "       accReactiveEnergy          uRms         iRms  activePotency  \\\n",
       "count       1.664000e+03   1664.000000  1664.000000    1664.000000   \n",
       "mean        7.374034e+06  22688.121394   339.256010      74.510216   \n",
       "std         1.098561e+06    127.071723   313.325717      72.669930   \n",
       "min         4.585384e+06  22178.000000    12.000000       0.000000   \n",
       "25%         6.588738e+06  22608.000000    23.000000       0.000000   \n",
       "50%         7.995666e+06  22695.000000   639.000000     144.000000   \n",
       "75%         8.269609e+06  22783.000000   644.000000     145.000000   \n",
       "max         8.457941e+06  23008.000000   663.000000     147.000000   \n",
       "\n",
       "       reactivePotency  potencyFactor  luminosityLux  temperature  \n",
       "count      1664.000000    1664.000000    1664.000000  1664.000000  \n",
       "mean        -11.090745     593.841346  138791.406250    39.056490  \n",
       "std          10.815383     407.718264  206370.557152     7.547114  \n",
       "min         -23.000000       8.000000       0.000000    20.000000  \n",
       "25%         -22.000000     157.750000       0.000000    34.000000  \n",
       "50%         -21.000000     987.000000    9200.000000    38.000000  \n",
       "75%           0.000000     988.000000  220150.000000    43.000000  \n",
       "max           0.000000     994.000000  606100.000000    61.000000  "
      ]
     },
     "execution_count": 1243,
     "metadata": {},
     "output_type": "execute_result"
    }
   ],
   "source": [
    "df_feature_cleaned.describe()"
   ]
  },
  {
   "cell_type": "code",
   "execution_count": 1244,
   "metadata": {},
   "outputs": [
    {
     "data": {
      "text/plain": [
       "count    1664.000000\n",
       "mean      226.881214\n",
       "std         1.270717\n",
       "min       221.780000\n",
       "25%       226.080000\n",
       "50%       226.950000\n",
       "75%       227.830000\n",
       "max       230.080000\n",
       "Name: uRms, dtype: float64"
      ]
     },
     "execution_count": 1244,
     "metadata": {},
     "output_type": "execute_result"
    }
   ],
   "source": [
    "df_feature_cleaned.loc[:,'uRms'] = df_feature_cleaned['uRms'] / 100.0 # Convert to V\n",
    "df_feature_cleaned['uRms'].describe()"
   ]
  },
  {
   "cell_type": "code",
   "execution_count": 1245,
   "metadata": {},
   "outputs": [
    {
     "data": {
      "text/plain": [
       "count    1664.000000\n",
       "mean     1387.914062\n",
       "std      2063.705572\n",
       "min         0.000000\n",
       "25%         0.000000\n",
       "50%        92.000000\n",
       "75%      2201.500000\n",
       "max      6061.000000\n",
       "Name: luminosityLux, dtype: float64"
      ]
     },
     "execution_count": 1245,
     "metadata": {},
     "output_type": "execute_result"
    }
   ],
   "source": [
    "df_feature_cleaned.loc[:,'luminosityLux'] = df_feature_cleaned['luminosityLux'] / 100.0 # Convert to Lux\n",
    "df_feature_cleaned['luminosityLux'].describe()"
   ]
  },
  {
   "cell_type": "code",
   "execution_count": 1246,
   "metadata": {},
   "outputs": [
    {
     "name": "stderr",
     "output_type": "stream",
     "text": [
      "/tmp/ipykernel_667535/3228150094.py:2: FutureWarning: Setting an item of incompatible dtype is deprecated and will raise in a future error of pandas. Value '['2024-01-08 22:00:49.000 +00:00' '2024-01-10 19:24:00.000 +00:00'\n",
      " '2024-01-10 20:24:01.000 +00:00' ... '2024-06-03 23:19:30.000 +00:00'\n",
      " '2024-06-03 23:39:31.000 +00:00' '2024-06-03 23:59:32.000 +00:00']' has dtype incompatible with int64, please explicitly cast to a compatible dtype first.\n",
      "  df_feature_cleaned.loc[:,'timestamp'] = df_feature_cleaned['timestamp'].apply(convert_timestamp)\n"
     ]
    },
    {
     "data": {
      "text/html": [
       "<div>\n",
       "<style scoped>\n",
       "    .dataframe tbody tr th:only-of-type {\n",
       "        vertical-align: middle;\n",
       "    }\n",
       "\n",
       "    .dataframe tbody tr th {\n",
       "        vertical-align: top;\n",
       "    }\n",
       "\n",
       "    .dataframe thead th {\n",
       "        text-align: right;\n",
       "    }\n",
       "</style>\n",
       "<table border=\"1\" class=\"dataframe\">\n",
       "  <thead>\n",
       "    <tr style=\"text-align: right;\">\n",
       "      <th></th>\n",
       "      <th>id</th>\n",
       "      <th>location</th>\n",
       "      <th>device</th>\n",
       "      <th>timestamp</th>\n",
       "      <th>state</th>\n",
       "      <th>dimmer</th>\n",
       "      <th>accActiveEnergy</th>\n",
       "      <th>accReactiveEnergy</th>\n",
       "      <th>uRms</th>\n",
       "      <th>iRms</th>\n",
       "      <th>activePotency</th>\n",
       "      <th>reactivePotency</th>\n",
       "      <th>potencyFactor</th>\n",
       "      <th>luminosityLux</th>\n",
       "      <th>temperature</th>\n",
       "    </tr>\n",
       "  </thead>\n",
       "  <tbody>\n",
       "    <tr>\n",
       "      <th>0</th>\n",
       "      <td>1</td>\n",
       "      <td>LOCATION 4</td>\n",
       "      <td>ANOMALO::0:zrhybacdev:cadjw3wmgc</td>\n",
       "      <td>2024-01-08 22:00:49.000 +00:00</td>\n",
       "      <td>0.0</td>\n",
       "      <td>100.0</td>\n",
       "      <td>17898466.0</td>\n",
       "      <td>4585384.0</td>\n",
       "      <td>225.16</td>\n",
       "      <td>23.0</td>\n",
       "      <td>0.0</td>\n",
       "      <td>0.0</td>\n",
       "      <td>140.0</td>\n",
       "      <td>183.0</td>\n",
       "      <td>35.0</td>\n",
       "    </tr>\n",
       "    <tr>\n",
       "      <th>1</th>\n",
       "      <td>2</td>\n",
       "      <td>LOCATION 4</td>\n",
       "      <td>ANOMALO::0:zrhybacdev:cadjw3wmgc</td>\n",
       "      <td>2024-01-10 19:24:00.000 +00:00</td>\n",
       "      <td>1.0</td>\n",
       "      <td>100.0</td>\n",
       "      <td>17907226.0</td>\n",
       "      <td>4586661.0</td>\n",
       "      <td>224.42</td>\n",
       "      <td>649.0</td>\n",
       "      <td>145.0</td>\n",
       "      <td>-21.0</td>\n",
       "      <td>989.0</td>\n",
       "      <td>0.0</td>\n",
       "      <td>41.0</td>\n",
       "    </tr>\n",
       "    <tr>\n",
       "      <th>2</th>\n",
       "      <td>3</td>\n",
       "      <td>LOCATION 4</td>\n",
       "      <td>ANOMALO::0:zrhybacdev:cadjw3wmgc</td>\n",
       "      <td>2024-01-10 20:24:01.000 +00:00</td>\n",
       "      <td>1.0</td>\n",
       "      <td>100.0</td>\n",
       "      <td>17921644.0</td>\n",
       "      <td>4588813.0</td>\n",
       "      <td>225.64</td>\n",
       "      <td>647.0</td>\n",
       "      <td>145.0</td>\n",
       "      <td>-21.0</td>\n",
       "      <td>989.0</td>\n",
       "      <td>0.0</td>\n",
       "      <td>40.0</td>\n",
       "    </tr>\n",
       "    <tr>\n",
       "      <th>3</th>\n",
       "      <td>4</td>\n",
       "      <td>LOCATION 4</td>\n",
       "      <td>ANOMALO::0:zrhybacdev:cadjw3wmgc</td>\n",
       "      <td>2024-01-10 21:24:02.000 +00:00</td>\n",
       "      <td>1.0</td>\n",
       "      <td>100.0</td>\n",
       "      <td>17936112.0</td>\n",
       "      <td>4591007.0</td>\n",
       "      <td>225.64</td>\n",
       "      <td>648.0</td>\n",
       "      <td>145.0</td>\n",
       "      <td>-22.0</td>\n",
       "      <td>988.0</td>\n",
       "      <td>0.0</td>\n",
       "      <td>38.0</td>\n",
       "    </tr>\n",
       "    <tr>\n",
       "      <th>4</th>\n",
       "      <td>5</td>\n",
       "      <td>LOCATION 4</td>\n",
       "      <td>ANOMALO::0:zrhybacdev:cadjw3wmgc</td>\n",
       "      <td>2024-01-10 22:24:02.000 +00:00</td>\n",
       "      <td>1.0</td>\n",
       "      <td>100.0</td>\n",
       "      <td>17950563.0</td>\n",
       "      <td>4593223.0</td>\n",
       "      <td>227.17</td>\n",
       "      <td>644.0</td>\n",
       "      <td>145.0</td>\n",
       "      <td>-22.0</td>\n",
       "      <td>988.0</td>\n",
       "      <td>0.0</td>\n",
       "      <td>39.0</td>\n",
       "    </tr>\n",
       "  </tbody>\n",
       "</table>\n",
       "</div>"
      ],
      "text/plain": [
       "   id    location                            device  \\\n",
       "0   1  LOCATION 4  ANOMALO::0:zrhybacdev:cadjw3wmgc   \n",
       "1   2  LOCATION 4  ANOMALO::0:zrhybacdev:cadjw3wmgc   \n",
       "2   3  LOCATION 4  ANOMALO::0:zrhybacdev:cadjw3wmgc   \n",
       "3   4  LOCATION 4  ANOMALO::0:zrhybacdev:cadjw3wmgc   \n",
       "4   5  LOCATION 4  ANOMALO::0:zrhybacdev:cadjw3wmgc   \n",
       "\n",
       "                        timestamp  state  dimmer  accActiveEnergy  \\\n",
       "0  2024-01-08 22:00:49.000 +00:00    0.0   100.0       17898466.0   \n",
       "1  2024-01-10 19:24:00.000 +00:00    1.0   100.0       17907226.0   \n",
       "2  2024-01-10 20:24:01.000 +00:00    1.0   100.0       17921644.0   \n",
       "3  2024-01-10 21:24:02.000 +00:00    1.0   100.0       17936112.0   \n",
       "4  2024-01-10 22:24:02.000 +00:00    1.0   100.0       17950563.0   \n",
       "\n",
       "   accReactiveEnergy    uRms   iRms  activePotency  reactivePotency  \\\n",
       "0          4585384.0  225.16   23.0            0.0              0.0   \n",
       "1          4586661.0  224.42  649.0          145.0            -21.0   \n",
       "2          4588813.0  225.64  647.0          145.0            -21.0   \n",
       "3          4591007.0  225.64  648.0          145.0            -22.0   \n",
       "4          4593223.0  227.17  644.0          145.0            -22.0   \n",
       "\n",
       "   potencyFactor  luminosityLux  temperature  \n",
       "0          140.0          183.0         35.0  \n",
       "1          989.0            0.0         41.0  \n",
       "2          989.0            0.0         40.0  \n",
       "3          988.0            0.0         38.0  \n",
       "4          988.0            0.0         39.0  "
      ]
     },
     "execution_count": 1246,
     "metadata": {},
     "output_type": "execute_result"
    }
   ],
   "source": [
    "df_feature_cleaned.loc[:,'timestamp'] = df_feature_cleaned['timestamp'] / 1000.0\n",
    "df_feature_cleaned.loc[:,'timestamp'] = df_feature_cleaned['timestamp'].apply(convert_timestamp)\n",
    "df_feature_cleaned.head()"
   ]
  },
  {
   "cell_type": "code",
   "execution_count": 1247,
   "metadata": {},
   "outputs": [],
   "source": [
    "df_feature_cleaned = df_feature_cleaned.drop(columns=['id'])"
   ]
  },
  {
   "cell_type": "markdown",
   "metadata": {},
   "source": [
    "### Exploratory Data Analysis"
   ]
  },
  {
   "cell_type": "code",
   "execution_count": 1248,
   "metadata": {},
   "outputs": [
    {
     "data": {
      "text/plain": [
       "<Axes: >"
      ]
     },
     "execution_count": 1248,
     "metadata": {},
     "output_type": "execute_result"
    },
    {
     "data": {
      "image/png": "[encoded data removed]",
      "text/plain": [
       "<Figure size 640x480 with 1 Axes>"
      ]
     },
     "metadata": {},
     "output_type": "display_data"
    }
   ],
   "source": [
    "voltage_column = df_feature_cleaned['uRms']\n",
    "voltage_column.hist()"
   ]
  },
  {
   "cell_type": "code",
   "execution_count": 1249,
   "metadata": {},
   "outputs": [
    {
     "data": {
      "text/plain": [
       "<Axes: >"
      ]
     },
     "execution_count": 1249,
     "metadata": {},
     "output_type": "execute_result"
    },
    {
     "data": {
      "image/png": "[encoded data removed]",
      "text/plain": [
       "<Figure size 640x480 with 1 Axes>"
      ]
     },
     "metadata": {},
     "output_type": "display_data"
    }
   ],
   "source": [
    "current_column = df_feature_cleaned['iRms']\n",
    "current_column.hist()"
   ]
  },
  {
   "cell_type": "code",
   "execution_count": 1250,
   "metadata": {},
   "outputs": [
    {
     "data": {
      "text/plain": [
       "<Axes: >"
      ]
     },
     "execution_count": 1250,
     "metadata": {},
     "output_type": "execute_result"
    },
    {
     "data": {
      "image/png": "[encoded data removed]",
      "text/plain": [
       "<Figure size 640x480 with 1 Axes>"
      ]
     },
     "metadata": {},
     "output_type": "display_data"
    }
   ],
   "source": [
    "current_column_night = df_feature_cleaned[df_feature_cleaned['state'] == 1] # Night\n",
    "current_column_night = current_column_night['iRms']\n",
    "current_column_night.hist()"
   ]
  },
  {
   "cell_type": "code",
   "execution_count": 1251,
   "metadata": {},
   "outputs": [
    {
     "data": {
      "text/plain": [
       "<Axes: >"
      ]
     },
     "execution_count": 1251,
     "metadata": {},
     "output_type": "execute_result"
    },
    {
     "data": {
      "image/png": "[encoded data removed]",
      "text/plain": [
       "<Figure size 640x480 with 1 Axes>"
      ]
     },
     "metadata": {},
     "output_type": "display_data"
    }
   ],
   "source": [
    "current_column_day = df_feature_cleaned[df_feature_cleaned['state'] == 0] # Day\n",
    "current_column_day = current_column_day['iRms']\n",
    "current_column_day.hist()"
   ]
  },
  {
   "cell_type": "code",
   "execution_count": 1252,
   "metadata": {},
   "outputs": [
    {
     "data": {
      "text/plain": [
       "<Axes: >"
      ]
     },
     "execution_count": 1252,
     "metadata": {},
     "output_type": "execute_result"
    },
    {
     "data": {
      "image/png": "[encoded data removed]",
      "text/plain": [
       "<Figure size 640x480 with 1 Axes>"
      ]
     },
     "metadata": {},
     "output_type": "display_data"
    }
   ],
   "source": [
    "luminosity_column = df_feature_cleaned['luminosityLux']\n",
    "luminosity_column.hist()"
   ]
  },
  {
   "cell_type": "code",
   "execution_count": 1253,
   "metadata": {},
   "outputs": [
    {
     "data": {
      "text/plain": [
       "<Axes: >"
      ]
     },
     "execution_count": 1253,
     "metadata": {},
     "output_type": "execute_result"
    },
    {
     "data": {
      "image/png": "[encoded data removed]",
      "text/plain": [
       "<Figure size 640x480 with 1 Axes>"
      ]
     },
     "metadata": {},
     "output_type": "display_data"
    }
   ],
   "source": [
    "luminosity_column_night = df_feature_cleaned[df_feature_cleaned['state'] == 1] # Night\n",
    "luminosity_column_night = luminosity_column_night['luminosityLux']\n",
    "luminosity_column_night.hist()"
   ]
  },
  {
   "cell_type": "code",
   "execution_count": 1254,
   "metadata": {},
   "outputs": [
    {
     "data": {
      "text/plain": [
       "<Axes: >"
      ]
     },
     "execution_count": 1254,
     "metadata": {},
     "output_type": "execute_result"
    },
    {
     "data": {
      "image/png": "[encoded data removed]",
      "text/plain": [
       "<Figure size 640x480 with 1 Axes>"
      ]
     },
     "metadata": {},
     "output_type": "display_data"
    }
   ],
   "source": [
    "luminosity_column_day = df_feature_cleaned[df_feature_cleaned['state'] == 0] # Day\n",
    "luminosity_column_day = luminosity_column_day['luminosityLux']\n",
    "luminosity_column_day.hist()"
   ]
  },
  {
   "cell_type": "code",
   "execution_count": 1255,
   "metadata": {},
   "outputs": [
    {
     "data": {
      "text/plain": [
       "<Axes: >"
      ]
     },
     "execution_count": 1255,
     "metadata": {},
     "output_type": "execute_result"
    },
    {
     "data": {
      "image/png": "[encoded data removed]",
      "text/plain": [
       "<Figure size 640x480 with 1 Axes>"
      ]
     },
     "metadata": {},
     "output_type": "display_data"
    }
   ],
   "source": [
    "temperature_column = df_feature_cleaned['temperature']\n",
    "temperature_column.hist()"
   ]
  },
  {
   "cell_type": "code",
   "execution_count": 1256,
   "metadata": {},
   "outputs": [
    {
     "data": {
      "text/plain": [
       "<Axes: >"
      ]
     },
     "execution_count": 1256,
     "metadata": {},
     "output_type": "execute_result"
    },
    {
     "data": {
      "image/png": "[encoded data removed]",
      "text/plain": [
       "<Figure size 640x480 with 1 Axes>"
      ]
     },
     "metadata": {},
     "output_type": "display_data"
    }
   ],
   "source": [
    "temperature_column_night = df_feature_cleaned[df_feature_cleaned['state'] == 1] # Night\n",
    "temperature_column_night = temperature_column_night['temperature']\n",
    "temperature_column_night.hist()"
   ]
  },
  {
   "cell_type": "code",
   "execution_count": 1257,
   "metadata": {},
   "outputs": [
    {
     "data": {
      "text/plain": [
       "<Axes: >"
      ]
     },
     "execution_count": 1257,
     "metadata": {},
     "output_type": "execute_result"
    },
    {
     "data": {
      "image/png": "[encoded data removed]",
      "text/plain": [
       "<Figure size 640x480 with 1 Axes>"
      ]
     },
     "metadata": {},
     "output_type": "display_data"
    }
   ],
   "source": [
    "temperature_column_day = df_feature_cleaned[df_feature_cleaned['state'] == 0] # Day\n",
    "temperature_column_day = temperature_column_day['temperature']\n",
    "temperature_column_day.hist()"
   ]
  },
  {
   "cell_type": "code",
   "execution_count": 1258,
   "metadata": {},
   "outputs": [
    {
     "data": {
      "text/plain": [
       "<Axes: >"
      ]
     },
     "execution_count": 1258,
     "metadata": {},
     "output_type": "execute_result"
    },
    {
     "data": {
      "image/png": "[encoded data removed]",
      "text/plain": [
       "<Figure size 640x480 with 1 Axes>"
      ]
     },
     "metadata": {},
     "output_type": "display_data"
    }
   ],
   "source": [
    "reactive_potency_column = df_feature_cleaned['reactivePotency']\n",
    "reactive_potency_column.hist()"
   ]
  },
  {
   "cell_type": "code",
   "execution_count": 1259,
   "metadata": {},
   "outputs": [
    {
     "data": {
      "text/plain": [
       "<Axes: >"
      ]
     },
     "execution_count": 1259,
     "metadata": {},
     "output_type": "execute_result"
    },
    {
     "data": {
      "image/png": "[encoded data removed]",
      "text/plain": [
       "<Figure size 640x480 with 1 Axes>"
      ]
     },
     "metadata": {},
     "output_type": "display_data"
    }
   ],
   "source": [
    "reactive_potency_column_night = df_feature_cleaned[df_feature_cleaned['state'] == 1] # Night\n",
    "reactive_potency_column_night = reactive_potency_column_night['reactivePotency']\n",
    "reactive_potency_column_night.hist()"
   ]
  },
  {
   "cell_type": "code",
   "execution_count": 1260,
   "metadata": {},
   "outputs": [
    {
     "data": {
      "text/plain": [
       "<Axes: >"
      ]
     },
     "execution_count": 1260,
     "metadata": {},
     "output_type": "execute_result"
    },
    {
     "data": {
      "image/png": "[encoded data removed]",
      "text/plain": [
       "<Figure size 640x480 with 1 Axes>"
      ]
     },
     "metadata": {},
     "output_type": "display_data"
    }
   ],
   "source": [
    "reactive_potency_column_day = df_feature_cleaned[df_feature_cleaned['state'] == 0] # Day\n",
    "reactive_potency_column_day = reactive_potency_column_day['reactivePotency']\n",
    "reactive_potency_column_day.hist()"
   ]
  },
  {
   "cell_type": "code",
   "execution_count": 1261,
   "metadata": {},
   "outputs": [
    {
     "data": {
      "image/png": "[encoded data removed]",
      "text/plain": [
       "<Figure size 640x480 with 1 Axes>"
      ]
     },
     "metadata": {},
     "output_type": "display_data"
    }
   ],
   "source": [
    "plt.scatter(df_feature_cleaned['luminosityLux'], df_feature_cleaned['iRms'])\n",
    "plt.show()"
   ]
  },
  {
   "cell_type": "code",
   "execution_count": 1262,
   "metadata": {},
   "outputs": [
    {
     "data": {
      "image/png": "[encoded data removed]",
      "text/plain": [
       "<Figure size 640x480 with 1 Axes>"
      ]
     },
     "metadata": {},
     "output_type": "display_data"
    }
   ],
   "source": [
    "plt.scatter(luminosity_column_night, current_column_night)\n",
    "plt.show()"
   ]
  },
  {
   "cell_type": "code",
   "execution_count": 1263,
   "metadata": {},
   "outputs": [
    {
     "data": {
      "image/png": "[encoded data removed]",
      "text/plain": [
       "<Figure size 640x480 with 1 Axes>"
      ]
     },
     "metadata": {},
     "output_type": "display_data"
    }
   ],
   "source": [
    "plt.scatter(luminosity_column_day, current_column_day)\n",
    "plt.show()"
   ]
  },
  {
   "cell_type": "code",
   "execution_count": 1264,
   "metadata": {},
   "outputs": [
    {
     "data": {
      "image/png": "[encoded data removed]",
      "text/plain": [
       "<Figure size 640x480 with 1 Axes>"
      ]
     },
     "metadata": {},
     "output_type": "display_data"
    }
   ],
   "source": [
    "plt.scatter(voltage_column, current_column)\n",
    "plt.show()"
   ]
  },
  {
   "cell_type": "code",
   "execution_count": 1265,
   "metadata": {},
   "outputs": [
    {
     "data": {
      "image/png": "[encoded data removed]",
      "text/plain": [
       "<Figure size 640x480 with 1 Axes>"
      ]
     },
     "metadata": {},
     "output_type": "display_data"
    }
   ],
   "source": [
    "plt.scatter(reactive_potency_column, current_column)\n",
    "plt.show()"
   ]
  },
  {
   "cell_type": "code",
   "execution_count": 1278,
   "metadata": {},
   "outputs": [
    {
     "data": {
      "text/plain": [
       "Index(['location', 'device', 'timestamp', 'state', 'dimmer', 'accActiveEnergy',\n",
       "       'accReactiveEnergy', 'uRms', 'iRms', 'activePotency', 'reactivePotency',\n",
       "       'potencyFactor', 'luminosityLux', 'temperature'],\n",
       "      dtype='object')"
      ]
     },
     "execution_count": 1278,
     "metadata": {},
     "output_type": "execute_result"
    }
   ],
   "source": [
    "df_feature_cleaned.columns"
   ]
  },
  {
   "cell_type": "markdown",
   "metadata": {},
   "source": [
    "### Binding Samples and Target"
   ]
  },
  {
   "cell_type": "code",
   "execution_count": 1266,
   "metadata": {},
   "outputs": [
    {
     "data": {
      "text/html": [
       "<div>\n",
       "<style scoped>\n",
       "    .dataframe tbody tr th:only-of-type {\n",
       "        vertical-align: middle;\n",
       "    }\n",
       "\n",
       "    .dataframe tbody tr th {\n",
       "        vertical-align: top;\n",
       "    }\n",
       "\n",
       "    .dataframe thead th {\n",
       "        text-align: right;\n",
       "    }\n",
       "</style>\n",
       "<table border=\"1\" class=\"dataframe\">\n",
       "  <thead>\n",
       "    <tr style=\"text-align: right;\">\n",
       "      <th></th>\n",
       "      <th>id</th>\n",
       "      <th>location</th>\n",
       "      <th>identification</th>\n",
       "      <th>nodeLabel</th>\n",
       "      <th>attr</th>\n",
       "      <th>value</th>\n",
       "      <th>timestamp</th>\n",
       "    </tr>\n",
       "  </thead>\n",
       "  <tbody>\n",
       "    <tr>\n",
       "      <th>0</th>\n",
       "      <td>1</td>\n",
       "      <td>LOCATION 4</td>\n",
       "      <td>ANOMALO::0:zrhybacdev:cadjw3wmgc</td>\n",
       "      <td>DVC_EVENT</td>\n",
       "      <td>BLINK</td>\n",
       "      <td>NaN</td>\n",
       "      <td>2024-05-19 06:39:38.000 +00:00</td>\n",
       "    </tr>\n",
       "    <tr>\n",
       "      <th>1</th>\n",
       "      <td>2</td>\n",
       "      <td>LOCATION 4</td>\n",
       "      <td>ANOMALO::0:zrhybacdev:cadjw3wmgc</td>\n",
       "      <td>DVC_EVENT</td>\n",
       "      <td>BLINK</td>\n",
       "      <td>NaN</td>\n",
       "      <td>2024-05-19 06:39:38.000 +00:00</td>\n",
       "    </tr>\n",
       "    <tr>\n",
       "      <th>2</th>\n",
       "      <td>3</td>\n",
       "      <td>LOCATION 4</td>\n",
       "      <td>ANOMALO::0:zrhybacdev:cadjw3wmgc</td>\n",
       "      <td>DVC_EVENT</td>\n",
       "      <td>BLINK</td>\n",
       "      <td>NaN</td>\n",
       "      <td>2024-05-19 06:39:38.000 +00:00</td>\n",
       "    </tr>\n",
       "    <tr>\n",
       "      <th>3</th>\n",
       "      <td>4</td>\n",
       "      <td>LOCATION 4</td>\n",
       "      <td>ANOMALO::0:zrhybacdev:cadjw3wmgc</td>\n",
       "      <td>DVC_EVENT</td>\n",
       "      <td>BLINK</td>\n",
       "      <td>NaN</td>\n",
       "      <td>2024-05-19 06:39:38.000 +00:00</td>\n",
       "    </tr>\n",
       "    <tr>\n",
       "      <th>4</th>\n",
       "      <td>5</td>\n",
       "      <td>LOCATION 4</td>\n",
       "      <td>ANOMALO::0:zrhybacdev:cadjw3wmgc</td>\n",
       "      <td>DVC_EVENT</td>\n",
       "      <td>BLINK</td>\n",
       "      <td>NaN</td>\n",
       "      <td>2024-05-19 06:39:38.000 +00:00</td>\n",
       "    </tr>\n",
       "  </tbody>\n",
       "</table>\n",
       "</div>"
      ],
      "text/plain": [
       "   id    location                    identification  nodeLabel   attr  value  \\\n",
       "0   1  LOCATION 4  ANOMALO::0:zrhybacdev:cadjw3wmgc  DVC_EVENT  BLINK    NaN   \n",
       "1   2  LOCATION 4  ANOMALO::0:zrhybacdev:cadjw3wmgc  DVC_EVENT  BLINK    NaN   \n",
       "2   3  LOCATION 4  ANOMALO::0:zrhybacdev:cadjw3wmgc  DVC_EVENT  BLINK    NaN   \n",
       "3   4  LOCATION 4  ANOMALO::0:zrhybacdev:cadjw3wmgc  DVC_EVENT  BLINK    NaN   \n",
       "4   5  LOCATION 4  ANOMALO::0:zrhybacdev:cadjw3wmgc  DVC_EVENT  BLINK    NaN   \n",
       "\n",
       "                        timestamp  \n",
       "0  2024-05-19 06:39:38.000 +00:00  \n",
       "1  2024-05-19 06:39:38.000 +00:00  \n",
       "2  2024-05-19 06:39:38.000 +00:00  \n",
       "3  2024-05-19 06:39:38.000 +00:00  \n",
       "4  2024-05-19 06:39:38.000 +00:00  "
      ]
     },
     "execution_count": 1266,
     "metadata": {},
     "output_type": "execute_result"
    }
   ],
   "source": [
    "df_target = pd.read_csv('./dataset/anomalo-events-sample.csv')\n",
    "df_target.head()"
   ]
  },
  {
   "cell_type": "code",
   "execution_count": 1267,
   "metadata": {},
   "outputs": [
    {
     "data": {
      "text/html": [
       "<div>\n",
       "<style scoped>\n",
       "    .dataframe tbody tr th:only-of-type {\n",
       "        vertical-align: middle;\n",
       "    }\n",
       "\n",
       "    .dataframe tbody tr th {\n",
       "        vertical-align: top;\n",
       "    }\n",
       "\n",
       "    .dataframe thead th {\n",
       "        text-align: right;\n",
       "    }\n",
       "</style>\n",
       "<table border=\"1\" class=\"dataframe\">\n",
       "  <thead>\n",
       "    <tr style=\"text-align: right;\">\n",
       "      <th></th>\n",
       "      <th>id</th>\n",
       "      <th>value</th>\n",
       "    </tr>\n",
       "  </thead>\n",
       "  <tbody>\n",
       "    <tr>\n",
       "      <th>count</th>\n",
       "      <td>99.000000</td>\n",
       "      <td>0.0</td>\n",
       "    </tr>\n",
       "    <tr>\n",
       "      <th>mean</th>\n",
       "      <td>50.000000</td>\n",
       "      <td>NaN</td>\n",
       "    </tr>\n",
       "    <tr>\n",
       "      <th>std</th>\n",
       "      <td>28.722813</td>\n",
       "      <td>NaN</td>\n",
       "    </tr>\n",
       "    <tr>\n",
       "      <th>min</th>\n",
       "      <td>1.000000</td>\n",
       "      <td>NaN</td>\n",
       "    </tr>\n",
       "    <tr>\n",
       "      <th>25%</th>\n",
       "      <td>25.500000</td>\n",
       "      <td>NaN</td>\n",
       "    </tr>\n",
       "    <tr>\n",
       "      <th>50%</th>\n",
       "      <td>50.000000</td>\n",
       "      <td>NaN</td>\n",
       "    </tr>\n",
       "    <tr>\n",
       "      <th>75%</th>\n",
       "      <td>74.500000</td>\n",
       "      <td>NaN</td>\n",
       "    </tr>\n",
       "    <tr>\n",
       "      <th>max</th>\n",
       "      <td>99.000000</td>\n",
       "      <td>NaN</td>\n",
       "    </tr>\n",
       "  </tbody>\n",
       "</table>\n",
       "</div>"
      ],
      "text/plain": [
       "              id  value\n",
       "count  99.000000    0.0\n",
       "mean   50.000000    NaN\n",
       "std    28.722813    NaN\n",
       "min     1.000000    NaN\n",
       "25%    25.500000    NaN\n",
       "50%    50.000000    NaN\n",
       "75%    74.500000    NaN\n",
       "max    99.000000    NaN"
      ]
     },
     "execution_count": 1267,
     "metadata": {},
     "output_type": "execute_result"
    }
   ],
   "source": [
    "df_target.describe()"
   ]
  },
  {
   "cell_type": "code",
   "execution_count": 1268,
   "metadata": {},
   "outputs": [
    {
     "name": "stdout",
     "output_type": "stream",
     "text": [
      "<class 'pandas.core.frame.DataFrame'>\n",
      "RangeIndex: 99 entries, 0 to 98\n",
      "Data columns (total 7 columns):\n",
      " #   Column          Non-Null Count  Dtype  \n",
      "---  ------          --------------  -----  \n",
      " 0   id              99 non-null     int64  \n",
      " 1   location        99 non-null     object \n",
      " 2   identification  99 non-null     object \n",
      " 3   nodeLabel       99 non-null     object \n",
      " 4   attr            99 non-null     object \n",
      " 5   value           0 non-null      float64\n",
      " 6   timestamp       99 non-null     object \n",
      "dtypes: float64(1), int64(1), object(5)\n",
      "memory usage: 5.5+ KB\n"
     ]
    }
   ],
   "source": [
    "df_target.info()"
   ]
  },
  {
   "cell_type": "code",
   "execution_count": 1269,
   "metadata": {},
   "outputs": [],
   "source": [
    "df_target_cleaned = df_target.drop_duplicates(subset='timestamp', keep='first')"
   ]
  },
  {
   "cell_type": "code",
   "execution_count": 1270,
   "metadata": {},
   "outputs": [
    {
     "name": "stderr",
     "output_type": "stream",
     "text": [
      "/tmp/ipykernel_667535/4095838552.py:2: SettingWithCopyWarning: \n",
      "A value is trying to be set on a copy of a slice from a DataFrame.\n",
      "Try using .loc[row_indexer,col_indexer] = value instead\n",
      "\n",
      "See the caveats in the documentation: https://pandas.pydata.org/pandas-docs/stable/user_guide/indexing.html#returning-a-view-versus-a-copy\n",
      "  df_target_cleaned['timestamp'] = pd.to_datetime(df_target_cleaned['timestamp'])\n"
     ]
    },
    {
     "data": {
      "text/html": [
       "<div>\n",
       "<style scoped>\n",
       "    .dataframe tbody tr th:only-of-type {\n",
       "        vertical-align: middle;\n",
       "    }\n",
       "\n",
       "    .dataframe tbody tr th {\n",
       "        vertical-align: top;\n",
       "    }\n",
       "\n",
       "    .dataframe thead th {\n",
       "        text-align: right;\n",
       "    }\n",
       "</style>\n",
       "<table border=\"1\" class=\"dataframe\">\n",
       "  <thead>\n",
       "    <tr style=\"text-align: right;\">\n",
       "      <th></th>\n",
       "      <th>location</th>\n",
       "      <th>device</th>\n",
       "      <th>timestamp</th>\n",
       "      <th>state</th>\n",
       "      <th>dimmer</th>\n",
       "      <th>accActiveEnergy</th>\n",
       "      <th>accReactiveEnergy</th>\n",
       "      <th>uRms</th>\n",
       "      <th>iRms</th>\n",
       "      <th>activePotency</th>\n",
       "      <th>reactivePotency</th>\n",
       "      <th>potencyFactor</th>\n",
       "      <th>luminosityLux</th>\n",
       "      <th>temperature</th>\n",
       "    </tr>\n",
       "  </thead>\n",
       "  <tbody>\n",
       "    <tr>\n",
       "      <th>0</th>\n",
       "      <td>LOCATION 4</td>\n",
       "      <td>ANOMALO::0:zrhybacdev:cadjw3wmgc</td>\n",
       "      <td>2024-01-08 22:00:49+00:00</td>\n",
       "      <td>0.0</td>\n",
       "      <td>100.0</td>\n",
       "      <td>17898466.0</td>\n",
       "      <td>4585384.0</td>\n",
       "      <td>225.16</td>\n",
       "      <td>23.0</td>\n",
       "      <td>0.0</td>\n",
       "      <td>0.0</td>\n",
       "      <td>140.0</td>\n",
       "      <td>183.0</td>\n",
       "      <td>35.0</td>\n",
       "    </tr>\n",
       "    <tr>\n",
       "      <th>1</th>\n",
       "      <td>LOCATION 4</td>\n",
       "      <td>ANOMALO::0:zrhybacdev:cadjw3wmgc</td>\n",
       "      <td>2024-01-10 19:24:00+00:00</td>\n",
       "      <td>1.0</td>\n",
       "      <td>100.0</td>\n",
       "      <td>17907226.0</td>\n",
       "      <td>4586661.0</td>\n",
       "      <td>224.42</td>\n",
       "      <td>649.0</td>\n",
       "      <td>145.0</td>\n",
       "      <td>-21.0</td>\n",
       "      <td>989.0</td>\n",
       "      <td>0.0</td>\n",
       "      <td>41.0</td>\n",
       "    </tr>\n",
       "    <tr>\n",
       "      <th>2</th>\n",
       "      <td>LOCATION 4</td>\n",
       "      <td>ANOMALO::0:zrhybacdev:cadjw3wmgc</td>\n",
       "      <td>2024-01-10 20:24:01+00:00</td>\n",
       "      <td>1.0</td>\n",
       "      <td>100.0</td>\n",
       "      <td>17921644.0</td>\n",
       "      <td>4588813.0</td>\n",
       "      <td>225.64</td>\n",
       "      <td>647.0</td>\n",
       "      <td>145.0</td>\n",
       "      <td>-21.0</td>\n",
       "      <td>989.0</td>\n",
       "      <td>0.0</td>\n",
       "      <td>40.0</td>\n",
       "    </tr>\n",
       "    <tr>\n",
       "      <th>3</th>\n",
       "      <td>LOCATION 4</td>\n",
       "      <td>ANOMALO::0:zrhybacdev:cadjw3wmgc</td>\n",
       "      <td>2024-01-10 21:24:02+00:00</td>\n",
       "      <td>1.0</td>\n",
       "      <td>100.0</td>\n",
       "      <td>17936112.0</td>\n",
       "      <td>4591007.0</td>\n",
       "      <td>225.64</td>\n",
       "      <td>648.0</td>\n",
       "      <td>145.0</td>\n",
       "      <td>-22.0</td>\n",
       "      <td>988.0</td>\n",
       "      <td>0.0</td>\n",
       "      <td>38.0</td>\n",
       "    </tr>\n",
       "    <tr>\n",
       "      <th>4</th>\n",
       "      <td>LOCATION 4</td>\n",
       "      <td>ANOMALO::0:zrhybacdev:cadjw3wmgc</td>\n",
       "      <td>2024-01-10 22:24:02+00:00</td>\n",
       "      <td>1.0</td>\n",
       "      <td>100.0</td>\n",
       "      <td>17950563.0</td>\n",
       "      <td>4593223.0</td>\n",
       "      <td>227.17</td>\n",
       "      <td>644.0</td>\n",
       "      <td>145.0</td>\n",
       "      <td>-22.0</td>\n",
       "      <td>988.0</td>\n",
       "      <td>0.0</td>\n",
       "      <td>39.0</td>\n",
       "    </tr>\n",
       "  </tbody>\n",
       "</table>\n",
       "</div>"
      ],
      "text/plain": [
       "     location                            device                 timestamp  \\\n",
       "0  LOCATION 4  ANOMALO::0:zrhybacdev:cadjw3wmgc 2024-01-08 22:00:49+00:00   \n",
       "1  LOCATION 4  ANOMALO::0:zrhybacdev:cadjw3wmgc 2024-01-10 19:24:00+00:00   \n",
       "2  LOCATION 4  ANOMALO::0:zrhybacdev:cadjw3wmgc 2024-01-10 20:24:01+00:00   \n",
       "3  LOCATION 4  ANOMALO::0:zrhybacdev:cadjw3wmgc 2024-01-10 21:24:02+00:00   \n",
       "4  LOCATION 4  ANOMALO::0:zrhybacdev:cadjw3wmgc 2024-01-10 22:24:02+00:00   \n",
       "\n",
       "   state  dimmer  accActiveEnergy  accReactiveEnergy    uRms   iRms  \\\n",
       "0    0.0   100.0       17898466.0          4585384.0  225.16   23.0   \n",
       "1    1.0   100.0       17907226.0          4586661.0  224.42  649.0   \n",
       "2    1.0   100.0       17921644.0          4588813.0  225.64  647.0   \n",
       "3    1.0   100.0       17936112.0          4591007.0  225.64  648.0   \n",
       "4    1.0   100.0       17950563.0          4593223.0  227.17  644.0   \n",
       "\n",
       "   activePotency  reactivePotency  potencyFactor  luminosityLux  temperature  \n",
       "0            0.0              0.0          140.0          183.0         35.0  \n",
       "1          145.0            -21.0          989.0            0.0         41.0  \n",
       "2          145.0            -21.0          989.0            0.0         40.0  \n",
       "3          145.0            -22.0          988.0            0.0         38.0  \n",
       "4          145.0            -22.0          988.0            0.0         39.0  "
      ]
     },
     "execution_count": 1270,
     "metadata": {},
     "output_type": "execute_result"
    }
   ],
   "source": [
    "df_feature_cleaned['timestamp'] = pd.to_datetime(df_feature_cleaned['timestamp'])\n",
    "df_target_cleaned['timestamp'] = pd.to_datetime(df_target_cleaned['timestamp'])\n",
    "df_feature_cleaned.head()"
   ]
  },
  {
   "cell_type": "code",
   "execution_count": 1271,
   "metadata": {},
   "outputs": [
    {
     "data": {
      "text/html": [
       "<div>\n",
       "<style scoped>\n",
       "    .dataframe tbody tr th:only-of-type {\n",
       "        vertical-align: middle;\n",
       "    }\n",
       "\n",
       "    .dataframe tbody tr th {\n",
       "        vertical-align: top;\n",
       "    }\n",
       "\n",
       "    .dataframe thead th {\n",
       "        text-align: right;\n",
       "    }\n",
       "</style>\n",
       "<table border=\"1\" class=\"dataframe\">\n",
       "  <thead>\n",
       "    <tr style=\"text-align: right;\">\n",
       "      <th></th>\n",
       "      <th>id</th>\n",
       "      <th>location</th>\n",
       "      <th>identification</th>\n",
       "      <th>nodeLabel</th>\n",
       "      <th>attr</th>\n",
       "      <th>value</th>\n",
       "      <th>timestamp</th>\n",
       "    </tr>\n",
       "  </thead>\n",
       "  <tbody>\n",
       "    <tr>\n",
       "      <th>0</th>\n",
       "      <td>1</td>\n",
       "      <td>LOCATION 4</td>\n",
       "      <td>ANOMALO::0:zrhybacdev:cadjw3wmgc</td>\n",
       "      <td>DVC_EVENT</td>\n",
       "      <td>BLINK</td>\n",
       "      <td>NaN</td>\n",
       "      <td>2024-05-19 06:39:38+00:00</td>\n",
       "    </tr>\n",
       "    <tr>\n",
       "      <th>5</th>\n",
       "      <td>6</td>\n",
       "      <td>LOCATION 4</td>\n",
       "      <td>ANOMALO::0:zrhybacdev:cadjw3wmgc</td>\n",
       "      <td>DVC_EVENT</td>\n",
       "      <td>BLINK</td>\n",
       "      <td>NaN</td>\n",
       "      <td>2024-05-19 17:16:42+00:00</td>\n",
       "    </tr>\n",
       "    <tr>\n",
       "      <th>7</th>\n",
       "      <td>8</td>\n",
       "      <td>LOCATION 4</td>\n",
       "      <td>ANOMALO::0:zrhybacdev:cadjw3wmgc</td>\n",
       "      <td>DVC_EVENT</td>\n",
       "      <td>BLINK</td>\n",
       "      <td>NaN</td>\n",
       "      <td>2024-05-21 21:57:27+00:00</td>\n",
       "    </tr>\n",
       "    <tr>\n",
       "      <th>8</th>\n",
       "      <td>9</td>\n",
       "      <td>LOCATION 4</td>\n",
       "      <td>ANOMALO::0:zrhybacdev:cadjw3wmgc</td>\n",
       "      <td>DVC_EVENT</td>\n",
       "      <td>BLINK</td>\n",
       "      <td>NaN</td>\n",
       "      <td>2024-05-22 01:57:52+00:00</td>\n",
       "    </tr>\n",
       "    <tr>\n",
       "      <th>9</th>\n",
       "      <td>10</td>\n",
       "      <td>LOCATION 4</td>\n",
       "      <td>ANOMALO::0:zrhybacdev:cadjw3wmgc</td>\n",
       "      <td>DVC_EVENT</td>\n",
       "      <td>BLINK</td>\n",
       "      <td>NaN</td>\n",
       "      <td>2024-05-22 05:57:57+00:00</td>\n",
       "    </tr>\n",
       "  </tbody>\n",
       "</table>\n",
       "</div>"
      ],
      "text/plain": [
       "   id    location                    identification  nodeLabel   attr  value  \\\n",
       "0   1  LOCATION 4  ANOMALO::0:zrhybacdev:cadjw3wmgc  DVC_EVENT  BLINK    NaN   \n",
       "5   6  LOCATION 4  ANOMALO::0:zrhybacdev:cadjw3wmgc  DVC_EVENT  BLINK    NaN   \n",
       "7   8  LOCATION 4  ANOMALO::0:zrhybacdev:cadjw3wmgc  DVC_EVENT  BLINK    NaN   \n",
       "8   9  LOCATION 4  ANOMALO::0:zrhybacdev:cadjw3wmgc  DVC_EVENT  BLINK    NaN   \n",
       "9  10  LOCATION 4  ANOMALO::0:zrhybacdev:cadjw3wmgc  DVC_EVENT  BLINK    NaN   \n",
       "\n",
       "                  timestamp  \n",
       "0 2024-05-19 06:39:38+00:00  \n",
       "5 2024-05-19 17:16:42+00:00  \n",
       "7 2024-05-21 21:57:27+00:00  \n",
       "8 2024-05-22 01:57:52+00:00  \n",
       "9 2024-05-22 05:57:57+00:00  "
      ]
     },
     "execution_count": 1271,
     "metadata": {},
     "output_type": "execute_result"
    }
   ],
   "source": [
    "df_target_cleaned.head()"
   ]
  },
  {
   "cell_type": "code",
   "execution_count": 1272,
   "metadata": {},
   "outputs": [
    {
     "name": "stdout",
     "output_type": "stream",
     "text": [
      "datetime64[ns, UTC]\n",
      "datetime64[ns, UTC]\n"
     ]
    }
   ],
   "source": [
    "print(df_feature_cleaned['timestamp'].dtype)\n",
    "print(df_target_cleaned['timestamp'].dtype)\n"
   ]
  },
  {
   "cell_type": "code",
   "execution_count": 1273,
   "metadata": {},
   "outputs": [],
   "source": [
    "# df_feature_cleaned = df_feature_cleaned.sort_values('timestamp')\n",
    "# df_target_cleaned = df_target_cleaned.sort_values('timestamp')\n",
    "\n",
    "# # Tolerancia\n",
    "# tolerance = pd.Timedelta('30 min')\n",
    "\n",
    "# # Merge com direção forward\n",
    "# df_state_forward = pd.merge_asof(\n",
    "#     df_feature_cleaned,\n",
    "#     df_target_cleaned[['timestamp', 'attr']],\n",
    "#     on='timestamp',\n",
    "#     direction='forward',\n",
    "#     tolerance=tolerance\n",
    "# )\n",
    "\n",
    "# # Merge com direção backward\n",
    "# df_state_backward = pd.merge_asof(\n",
    "#     df_feature_cleaned,\n",
    "#     df_target_cleaned[['timestamp', 'attr']],\n",
    "#     on='timestamp',\n",
    "#     direction='backward',\n",
    "#     tolerance=tolerance\n",
    "# )\n",
    "\n",
    "# # Concatenando os resultados\n",
    "# df_state = pd.concat([df_state_forward, df_state_backward])\n",
    "\n",
    "# # # Remover duplicatas com base no timestamp, mantendo a primeira ocorrência\n",
    "# df_state = df_state.drop_duplicates(subset='timestamp', keep='first')\n",
    "\n",
    "# # Adicionando a flag de anomalia\n",
    "# df_state['fail'] = df_state['attr'].notna()\n",
    "\n",
    "# # # Salvar em CSV\n",
    "# # df_state.to_csv(path_or_buf='combined.csv')\n",
    "\n",
    "# # Exibir a quantidade de valores de 'is_anomalous'\n",
    "# print(df_state['fail'].value_counts())"
   ]
  },
  {
   "cell_type": "code",
   "execution_count": 1274,
   "metadata": {},
   "outputs": [
    {
     "name": "stdout",
     "output_type": "stream",
     "text": [
      "fail\n",
      "False    1456\n",
      "True      208\n",
      "Name: count, dtype: int64\n"
     ]
    }
   ],
   "source": [
    "df_feature_cleaned = df_feature_cleaned.sort_values('timestamp')\n",
    "df_target_cleaned = df_target_cleaned.sort_values('timestamp')\n",
    "\n",
    "tolerance = pd.Timedelta('30 min')\n",
    "\n",
    "# Merge com direção forward\n",
    "df_state = pd.merge_asof(\n",
    "    df_feature_cleaned,\n",
    "    df_target_cleaned[['timestamp', 'attr']],\n",
    "    on='timestamp',\n",
    "    direction='nearest',\n",
    "    tolerance=tolerance\n",
    ")\n",
    "\n",
    "# Adicionando a flag de anomalia\n",
    "df_state['fail'] = df_state['attr'].notna()\n",
    "\n",
    "# # Salvar em CSV\n",
    "# df_state.to_csv(path_or_buf='combined.csv')\n",
    "\n",
    "# Exibir a quantidade de valores de 'is_anomalous'\n",
    "print(df_state['fail'].value_counts())"
   ]
  },
  {
   "cell_type": "code",
   "execution_count": 1275,
   "metadata": {},
   "outputs": [],
   "source": [
    "df_state.loc[:, ['timestamp', 'state', 'iRms', 'reactivePotency', 'luminosityLux', 'fail']].to_csv(path_or_buf='full_cleaned_dataset.csv')"
   ]
  },
  {
   "cell_type": "code",
   "execution_count": 1276,
   "metadata": {},
   "outputs": [],
   "source": [
    "df_cleaned_night = df_state[df_state['state'] == 1] # Night\n",
    "df_cleaned_night.loc[:, ['state', 'iRms', 'reactivePotency', 'luminosityLux', 'fail']].to_csv(path_or_buf='features_night.csv')"
   ]
  },
  {
   "cell_type": "code",
   "execution_count": 1277,
   "metadata": {},
   "outputs": [],
   "source": [
    "df_cleaned_day = df_state[df_state['state'] == 0] # Day\n",
    "df_cleaned_day.loc[:, ['state', 'iRms', 'reactivePotency', 'luminosityLux', 'fail']].to_csv(path_or_buf='features_day.csv')"
   ]
  }
 ],
 "metadata": {
  "kernelspec": {
   "display_name": "myenv",
   "language": "python",
   "name": "python3"
  },
  "language_info": {
   "codemirror_mode": {
    "name": "ipython",
    "version": 3
   },
   "file_extension": ".py",
   "mimetype": "text/x-python",
   "name": "python",
   "nbconvert_exporter": "python",
   "pygments_lexer": "ipython3",
   "version": "3.10.12"
  }
 },
 "nbformat": 4,
 "nbformat_minor": 2
}
